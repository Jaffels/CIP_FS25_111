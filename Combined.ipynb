{
 "cells": [
  {
   "cell_type": "code",
   "id": "initial_id",
   "metadata": {
    "collapsed": true,
    "ExecuteTime": {
     "end_time": "2025-03-24T16:50:28.436429Z",
     "start_time": "2025-03-24T16:50:27.756605Z"
    }
   },
   "source": [
    "# Load all the required packages\n",
    "import pandas as pd\n",
    "import numpy as np\n",
    "import matplotlib.pyplot as plt\n",
    "import openmeteo_requests\n",
    "import requests_cache\n",
    "from retry_requests import retry\n",
    "import os\n",
    "import time\n",
    "import random\n",
    "import seaborn as sns"
   ],
   "outputs": [],
   "execution_count": 1
  },
  {
   "metadata": {},
   "cell_type": "markdown",
   "source": "### Call the API, fetch the required data and create the dataframe",
   "id": "1cd7991a838d2788"
  },
  {
   "metadata": {
    "ExecuteTime": {
     "end_time": "2025-03-24T16:50:28.439055Z",
     "start_time": "2025-03-24T16:50:28.437338Z"
    }
   },
   "cell_type": "code",
   "source": [
    "# create a data directory called Data for our data\n",
    "os.makedirs(\"Data\", exist_ok=True)\n",
    "print(f\"Folder Data created successfully!\")"
   ],
   "id": "9a6a7ac6612b61b",
   "outputs": [
    {
     "name": "stdout",
     "output_type": "stream",
     "text": [
      "Folder Data created successfully!\n"
     ]
    }
   ],
   "execution_count": 2
  },
  {
   "metadata": {
    "ExecuteTime": {
     "end_time": "2025-03-24T16:50:28.440709Z",
     "start_time": "2025-03-24T16:50:28.439446Z"
    }
   },
   "cell_type": "code",
   "source": [
    "# Declare the latitude and longitude for both cities\n",
    "cities = {\"Zurich\": {'loc': [\"47.3769\", \"8.5417\"]},\n",
    "\t\t  \"Seattle\": {'loc': [\"47.6062\", \"122.3321\"]}}"
   ],
   "id": "b2144baa0a11183f",
   "outputs": [],
   "execution_count": 3
  },
  {
   "metadata": {
    "ExecuteTime": {
     "end_time": "2025-03-24T16:50:28.443461Z",
     "start_time": "2025-03-24T16:50:28.441158Z"
    }
   },
   "cell_type": "code",
   "source": [
    "# Setup the Open-Meteo API client with cache and retry on error\n",
    "cache_session = requests_cache.CachedSession('.cache', expire_after = -1)\n",
    "retry_session = retry(cache_session, retries = 5, backoff_factor = 0.2)\n",
    "openmeteo = openmeteo_requests.Client(session = retry_session)"
   ],
   "id": "11d3f66e4f425ffd",
   "outputs": [],
   "execution_count": 4
  },
  {
   "metadata": {
    "ExecuteTime": {
     "end_time": "2025-03-24T16:50:28.447001Z",
     "start_time": "2025-03-24T16:50:28.444482Z"
    }
   },
   "cell_type": "code",
   "source": [
    "def call_API(city, openmeteo, cities):\n",
    "    # Set the API call parameters\n",
    "    url = \"https://archive-api.open-meteo.com/v1/archive\"\n",
    "    params = {\n",
    "       \"latitude\": cities[city]['loc'][0],\n",
    "       \"longitude\": cities[city]['loc'][1],\n",
    "       \"start_date\": \"1940-01-01\",\n",
    "       \"end_date\": \"2024-12-31\",\n",
    "       \"daily\": [\"weather_code\", \"temperature_2m_max\", \"temperature_2m_min\", \"temperature_2m_mean\", \"apparent_temperature_max\", \"apparent_temperature_min\", \"apparent_temperature_mean\", \"sunrise\", \"sunset\", \"daylight_duration\", \"sunshine_duration\", \"precipitation_sum\", \"rain_sum\", \"snowfall_sum\", \"precipitation_hours\", \"wind_speed_10m_max\", \"wind_gusts_10m_max\", \"wind_direction_10m_dominant\", \"shortwave_radiation_sum\", \"et0_fao_evapotranspiration\"],\n",
    "       \"timezone\": cities[city].get('timezone', \"Europe/Berlin\") \n",
    "    }\n",
    "    responses = openmeteo.weather_api(url, params=params)\n",
    "    \n",
    "    # Print the first part of the API response to validate the call data is valid\n",
    "    response = responses[0]\n",
    "    print(f\"Coordinates {response.Latitude()}°N {response.Longitude()}°E\")\n",
    "    print(f\"Elevation {response.Elevation()} m asl\")\n",
    "    print(f\"Timezone {response.Timezone()} {response.TimezoneAbbreviation()}\")\n",
    "    print(f\"Timezone difference to GMT+0 {response.UtcOffsetSeconds()} s\")\n",
    "    \n",
    "    return response"
   ],
   "id": "960e2caa2495d011",
   "outputs": [],
   "execution_count": 5
  },
  {
   "metadata": {},
   "cell_type": "markdown",
   "source": "In the create_dataframe function we validate the data types as we receive the data, we also change the date format into a readable format and into a format that useful for our project as we don't need anything but the date. This save us from performing these tasks later on when we clean our data.",
   "id": "2cdcd3aca6369039"
  },
  {
   "metadata": {
    "ExecuteTime": {
     "end_time": "2025-03-24T16:50:28.450530Z",
     "start_time": "2025-03-24T16:50:28.447526Z"
    }
   },
   "cell_type": "code",
   "source": [
    "def create_dataframe(response):\n",
    "\t# Process data and validate variable types\n",
    "\tdaily = response.Daily()\n",
    "\tdaily_weather_code = daily.Variables(0).ValuesAsNumpy()\n",
    "\tdaily_temperature_2m_max = daily.Variables(1).ValuesAsNumpy()\n",
    "\tdaily_temperature_2m_min = daily.Variables(2).ValuesAsNumpy()\n",
    "\tdaily_temperature_2m_mean = daily.Variables(3).ValuesAsNumpy()\n",
    "\tdaily_apparent_temperature_max = daily.Variables(4).ValuesAsNumpy()\n",
    "\tdaily_apparent_temperature_min = daily.Variables(5).ValuesAsNumpy()\n",
    "\tdaily_apparent_temperature_mean = daily.Variables(6).ValuesAsNumpy()\n",
    "\tdaily_sunrise = daily.Variables(7).ValuesAsNumpy()\n",
    "\tdaily_sunset = daily.Variables(8).ValuesAsNumpy()\n",
    "\tdaily_daylight_duration = daily.Variables(9).ValuesAsNumpy()\n",
    "\tdaily_sunshine_duration = daily.Variables(10).ValuesAsNumpy()\n",
    "\tdaily_precipitation_sum = daily.Variables(11).ValuesAsNumpy()\n",
    "\tdaily_rain_sum = daily.Variables(12).ValuesAsNumpy()\n",
    "\tdaily_snowfall_sum = daily.Variables(13).ValuesAsNumpy()\n",
    "\tdaily_precipitation_hours = daily.Variables(14).ValuesAsNumpy()\n",
    "\tdaily_wind_speed_10m_max = daily.Variables(15).ValuesAsNumpy()\n",
    "\tdaily_wind_gusts_10m_max = daily.Variables(16).ValuesAsNumpy()\n",
    "\tdaily_wind_direction_10m_dominant = daily.Variables(17).ValuesAsNumpy()\n",
    "\tdaily_shortwave_radiation_sum = daily.Variables(18).ValuesAsNumpy()\n",
    "\tdaily_et0_fao_evapotranspiration = daily.Variables(19).ValuesAsNumpy()\n",
    "\t\n",
    "\t# Format the date variable to readable format\n",
    "\tdaily_data = {\"date\": pd.date_range(\n",
    "\t\tstart = pd.to_datetime(daily.Time(), unit = \"s\", utc = True),\n",
    "\t\tend = pd.to_datetime(daily.TimeEnd(), unit = \"s\", utc = True),\n",
    "\t\tfreq = pd.Timedelta(seconds = daily.Interval()),\n",
    "\t\tinclusive = \"left\"\n",
    "\t\t).strftime('%Y/%m/%d')\n",
    "\t}\n",
    "\t\n",
    "\t# Create the pandas dataframe\n",
    "\tdaily_data[\"weather_code\"] = daily_weather_code\n",
    "\tdaily_data[\"temperature_2m_max\"] = daily_temperature_2m_max\n",
    "\tdaily_data[\"temperature_2m_min\"] = daily_temperature_2m_min\n",
    "\tdaily_data[\"temperature_2m_mean\"] = daily_temperature_2m_mean\n",
    "\tdaily_data[\"apparent_temperature_max\"] = daily_apparent_temperature_max\n",
    "\tdaily_data[\"apparent_temperature_min\"] = daily_apparent_temperature_min\n",
    "\tdaily_data[\"apparent_temperature_mean\"] = daily_apparent_temperature_mean\n",
    "\tdaily_data[\"sunrise\"] = daily_sunrise\n",
    "\tdaily_data[\"sunset\"] = daily_sunset\n",
    "\tdaily_data[\"daylight_duration\"] = daily_daylight_duration\n",
    "\tdaily_data[\"sunshine_duration\"] = daily_sunshine_duration\n",
    "\tdaily_data[\"precipitation_sum\"] = daily_precipitation_sum\n",
    "\tdaily_data[\"rain_sum\"] = daily_rain_sum\n",
    "\tdaily_data[\"snowfall_sum\"] = daily_snowfall_sum\n",
    "\tdaily_data[\"precipitation_hours\"] = daily_precipitation_hours\n",
    "\tdaily_data[\"wind_speed_10m_max\"] = daily_wind_speed_10m_max\n",
    "\tdaily_data[\"wind_gusts_10m_max\"] = daily_wind_gusts_10m_max\n",
    "\tdaily_data[\"wind_direction_10m_dominant\"] = daily_wind_direction_10m_dominant\n",
    "\tdaily_data[\"shortwave_radiation_sum\"] = daily_shortwave_radiation_sum\n",
    "\tdaily_data[\"et0_fao_evapotranspiration\"] = daily_et0_fao_evapotranspiration\n",
    "\t\n",
    "\t# Make a dataframe from the dictionary\n",
    "\tdaily_dataframe = pd.DataFrame(data = daily_data)\n",
    "\t\n",
    "\treturn daily_dataframe"
   ],
   "id": "373cfc0fc00685a2",
   "outputs": [],
   "execution_count": 6
  },
  {
   "metadata": {
    "ExecuteTime": {
     "end_time": "2025-03-24T16:50:28.452296Z",
     "start_time": "2025-03-24T16:50:28.450983Z"
    }
   },
   "cell_type": "code",
   "source": [
    "def save_df(data, city):\n",
    "\t# Save the dataframe as csv file\n",
    "\tdata.to_csv(f\"Data/{city}.csv\", index = False)\n",
    "\tprint(f\"Saved data for '{city}' successfully!\")"
   ],
   "id": "6365bdfece8b966e",
   "outputs": [],
   "execution_count": 7
  },
  {
   "metadata": {
    "ExecuteTime": {
     "end_time": "2025-03-24T16:50:28.454303Z",
     "start_time": "2025-03-24T16:50:28.452760Z"
    }
   },
   "cell_type": "code",
   "source": [
    "def combine_dataframes():\n",
    "\t# Create a single dataframe from the 2 datasets\n",
    "\t# Load the 2 datasets\n",
    "\tdf1 = pd.read_csv(\"Data/Zurich.csv\")\n",
    "\tdf2 = pd.read_csv(\"Data/Seattle.csv\")\n",
    "\t\n",
    "\t# Add a column to contains the city name\n",
    "\tdf1['city'] = 'Zurich'\n",
    "\tdf2['city'] = 'Seattle'\n",
    "\t\n",
    "\t# Concatenate the 2 dataframes\n",
    "\tstart_df = pd.concat([df1, df2], ignore_index=True)\n",
    "\t\n",
    "\t# Write combined dataframes to csv file\n",
    "\tstart_df.to_csv(\"Data/start.csv\", index = False)"
   ],
   "id": "c3f08b8341e6dafd",
   "outputs": [],
   "execution_count": 8
  },
  {
   "metadata": {
    "ExecuteTime": {
     "end_time": "2025-03-24T16:52:28.944467Z",
     "start_time": "2025-03-24T16:50:28.454795Z"
    }
   },
   "cell_type": "code",
   "source": [
    "# Call the API and save the as csv files\n",
    "# Saving as csv files to limit the amount of calls to data provider\n",
    "count = 0\n",
    "for city in cities:\n",
    "\tresponse = call_API(city, openmeteo, cities)\n",
    "\tdata = create_dataframe(response)\n",
    "\tsave_df(data, city)\n",
    "\tprint('\\n')\n",
    "\n",
    "\t# Delay the 2nd API call for 2 minutes to not violate limits on API calls\n",
    "\tif count < 1:\n",
    "\t\ttime.sleep(120)\n",
    "\tcount += 1"
   ],
   "id": "6b525a331b6648f1",
   "outputs": [
    {
     "name": "stdout",
     "output_type": "stream",
     "text": [
      "Coordinates 47.34621810913086°N 8.54337215423584°E\n",
      "Elevation 409.0 m asl\n",
      "Timezone b'Europe/Berlin' b'GMT+1'\n",
      "Timezone difference to GMT+0 3600 s\n",
      "Saved data for 'Zurich' successfully!\n",
      "\n",
      "\n",
      "Coordinates 47.62741470336914°N 122.17462158203125°E\n",
      "Elevation 577.0 m asl\n",
      "Timezone b'Europe/Berlin' b'GMT+1'\n",
      "Timezone difference to GMT+0 3600 s\n",
      "Saved data for 'Seattle' successfully!\n",
      "\n",
      "\n"
     ]
    }
   ],
   "execution_count": 9
  },
  {
   "metadata": {
    "ExecuteTime": {
     "end_time": "2025-03-24T16:52:29.022141Z",
     "start_time": "2025-03-24T16:52:28.945044Z"
    }
   },
   "cell_type": "code",
   "source": [
    "# Create a single dataframe from the 2 datasets\n",
    "# Load the 2 datasets\n",
    "df1 = pd.read_csv(\"Data/Zurich.csv\")\n",
    "df2 = pd.read_csv(\"Data/Seattle.csv\")\n",
    "\n",
    "# Add a column to contains the city name\n",
    "df1['city'] = 'Zurich'\n",
    "df2['city'] = 'Seattle'\n",
    "\n",
    "# Concatenate the 2 dataframes\n",
    "df = pd.concat([df1, df2], ignore_index=True)"
   ],
   "id": "fae2e83dcbed7d85",
   "outputs": [],
   "execution_count": 10
  },
  {
   "metadata": {},
   "cell_type": "code",
   "outputs": [],
   "execution_count": null,
   "source": [
    "# Write combined dataframes to csv file\n",
    "start_df.to_csv(\"Data/start.csv\", index = False)"
   ],
   "id": "e6e378b63039671c"
  },
  {
   "metadata": {},
   "cell_type": "code",
   "outputs": [],
   "execution_count": 11,
   "source": [
    "# Delete files no longer required\n",
    "os.remove(\"Data/Seattle.csv\")\n",
    "os.remove(\"Data/Zurich.csv\")"
   ],
   "id": "62d6cc636163fc6b"
  },
  {
   "metadata": {},
   "cell_type": "markdown",
   "source": [
    "### Clean the dataset\n",
    "Some of the data cleaning was preformed when we received the data from the API calls as it was deemed a more effiecent."
   ],
   "id": "cbd5cbb3fb342068"
  },
  {
   "metadata": {
    "ExecuteTime": {
     "end_time": "2025-03-24T16:52:29.029048Z",
     "start_time": "2025-03-24T16:52:29.024830Z"
    }
   },
   "cell_type": "code",
   "source": [
    "# Identify numerical columns\n",
    "numerical_cols = df.select_dtypes(include=[np.number]).columns.tolist()"
   ],
   "id": "7898804ca335e1df",
   "outputs": [],
   "execution_count": 12
  },
  {
   "metadata": {
    "ExecuteTime": {
     "end_time": "2025-03-24T16:52:29.033586Z",
     "start_time": "2025-03-24T16:52:29.029627Z"
    }
   },
   "cell_type": "code",
   "source": [
    "# Check for empty or all zeros columns\n",
    "empty_cols = []\n",
    "for col in numerical_cols:\n",
    "\tif df[col].sum() == 0:\n",
    "\t\tempty_cols.append(col)\n",
    "\t\t\n",
    "print(empty_cols)"
   ],
   "id": "587035f9ceb038b7",
   "outputs": [
    {
     "name": "stdout",
     "output_type": "stream",
     "text": [
      "['sunrise', 'sunset']\n"
     ]
    }
   ],
   "execution_count": 13
  },
  {
   "metadata": {
    "ExecuteTime": {
     "end_time": "2025-03-24T16:52:29.040623Z",
     "start_time": "2025-03-24T16:52:29.035299Z"
    }
   },
   "cell_type": "code",
   "source": [
    "# Remove two columns with only zero values\n",
    "df = df.drop(empty_cols, axis=1)"
   ],
   "id": "b453b757db0f1edc",
   "outputs": [],
   "execution_count": 14
  },
  {
   "metadata": {
    "ExecuteTime": {
     "end_time": "2025-03-24T16:52:29.045423Z",
     "start_time": "2025-03-24T16:52:29.041234Z"
    }
   },
   "cell_type": "code",
   "source": [
    "# Get index of rows with NaN values\n",
    "nan_rows = df[df.isna().any(axis=1)].index.tolist()\n",
    "\n",
    "print(nan_rows)"
   ],
   "id": "65a904ec4ef376d0",
   "outputs": [
    {
     "name": "stdout",
     "output_type": "stream",
     "text": [
      "[0, 31047]\n"
     ]
    }
   ],
   "execution_count": 15
  },
  {
   "metadata": {
    "ExecuteTime": {
     "end_time": "2025-03-24T16:52:29.053286Z",
     "start_time": "2025-03-24T16:52:29.045911Z"
    }
   },
   "cell_type": "code",
   "source": "df = df.drop(index=nan_rows, axis=0)",
   "id": "9c0f7f0a81a06174",
   "outputs": [],
   "execution_count": 16
  },
  {
   "metadata": {
    "ExecuteTime": {
     "end_time": "2025-03-24T16:52:29.057136Z",
     "start_time": "2025-03-24T16:52:29.053835Z"
    }
   },
   "cell_type": "code",
   "source": [
    "# See if the column is the correct data type\n",
    "set(df.weather_code.unique())"
   ],
   "id": "53eef2c6ac12c8ff",
   "outputs": [
    {
     "data": {
      "text/plain": [
       "{np.float64(0.0),\n",
       " np.float64(1.0),\n",
       " np.float64(2.0),\n",
       " np.float64(3.0),\n",
       " np.float64(51.0),\n",
       " np.float64(53.0),\n",
       " np.float64(55.0),\n",
       " np.float64(61.0),\n",
       " np.float64(63.0),\n",
       " np.float64(65.0),\n",
       " np.float64(71.0),\n",
       " np.float64(73.0),\n",
       " np.float64(75.0)}"
      ]
     },
     "execution_count": 17,
     "metadata": {},
     "output_type": "execute_result"
    }
   ],
   "execution_count": 17
  },
  {
   "metadata": {
    "ExecuteTime": {
     "end_time": "2025-03-24T16:52:29.059467Z",
     "start_time": "2025-03-24T16:52:29.057647Z"
    }
   },
   "cell_type": "code",
   "source": "df['weather_code'] = df['weather_code'].astype(int)",
   "id": "1ad67d1576ab6b5d",
   "outputs": [],
   "execution_count": 18
  },
  {
   "metadata": {
    "ExecuteTime": {
     "end_time": "2025-03-24T16:52:29.364051Z",
     "start_time": "2025-03-24T16:52:29.059858Z"
    }
   },
   "cell_type": "code",
   "source": [
    "# Write cleaned dataframe to csv file to limit API calls\n",
    "df.to_csv(\"Data/clean.csv\", index = False)"
   ],
   "id": "31215bd737be924",
   "outputs": [],
   "execution_count": 19
  },
  {
   "metadata": {},
   "cell_type": "markdown",
   "source": "### Check the dataset for outliers",
   "id": "dd43e5c74e37ad87"
  },
  {
   "metadata": {
    "ExecuteTime": {
     "end_time": "2025-03-24T16:52:29.367571Z",
     "start_time": "2025-03-24T16:52:29.364637Z"
    }
   },
   "cell_type": "code",
   "source": [
    "# Identify remaining numerical columns\n",
    "num_cols = df.select_dtypes(include=[np.number]).columns.tolist()"
   ],
   "id": "fc26876d5ffbc5ed",
   "outputs": [],
   "execution_count": 20
  },
  {
   "metadata": {
    "ExecuteTime": {
     "end_time": "2025-03-24T16:52:29.401692Z",
     "start_time": "2025-03-24T16:52:29.367936Z"
    }
   },
   "cell_type": "code",
   "source": [
    "# Find outliers for each column\n",
    "outlier_results = []\n",
    "\n",
    "# Calculate quartiles\n",
    "for col in num_cols:\n",
    "    Q1 = df[col].quantile(0.25)\n",
    "    Q3 = df[col].quantile(0.75)\n",
    "    IQR = Q3 - Q1\n",
    "    \n",
    "    # Define outlier boundaries\n",
    "    lower_bound = Q1 - 1.5 * IQR\n",
    "    upper_bound = Q3 + 1.5 * IQR\n",
    "    \n",
    "    # Find outliers\n",
    "    outliers = df[(df[col] < lower_bound) | (df[col] > upper_bound)]\n",
    "    num_outliers = len(outliers)\n",
    "    \n",
    "    # Only inspect \n",
    "    if num_outliers > 0:\n",
    "        outlier_results.append({\n",
    "            'Column': col,\n",
    "            'Outliers Count': num_outliers,\n",
    "            'Min': df[col].min(),\n",
    "            'Q1': Q1,\n",
    "            'Median': df[col].median(),\n",
    "            'Q3': Q3,\n",
    "            'Max': df[col].max(),\n",
    "            'IQR': IQR,\n",
    "            'Lower Bound': lower_bound,\n",
    "            'Upper Bound': upper_bound\n",
    "        })\n",
    "\n",
    "# Create DataFrame with outlier results\n",
    "outlier_df = pd.DataFrame(outlier_results)\n",
    "print(\"\\nOutlier Summary:\")\n",
    "print(outlier_df)"
   ],
   "id": "dbba35fc0b9af32f",
   "outputs": [
    {
     "name": "stdout",
     "output_type": "stream",
     "text": [
      "\n",
      "Outlier Summary:\n",
      "                        Column  Outliers Count        Min         Q1  \\\n",
      "0           temperature_2m_max             102 -28.598500   2.992000   \n",
      "1           temperature_2m_min             712 -35.448500  -4.498500   \n",
      "2          temperature_2m_mean             308 -33.081833  -0.766167   \n",
      "3     apparent_temperature_max              26 -35.357895  -1.083051   \n",
      "4     apparent_temperature_min             159 -41.875416  -8.925577   \n",
      "5    apparent_temperature_mean              49 -39.444570  -5.041681   \n",
      "6            precipitation_sum            8764   0.000000   0.000000   \n",
      "7                     rain_sum           10047   0.000000   0.000000   \n",
      "8                 snowfall_sum            7749   0.000000   0.000000   \n",
      "9          precipitation_hours            4474   0.000000   0.000000   \n",
      "10          wind_speed_10m_max             885   1.609969   9.178235   \n",
      "11          wind_gusts_10m_max             954   7.559999  23.039999   \n",
      "12  et0_fao_evapotranspiration              56   0.089023   0.689119   \n",
      "\n",
      "       Median         Q3         Max        IQR  Lower Bound  Upper Bound  \n",
      "0   12.150499  19.942000   37.380500  16.950000   -22.433000    45.367000  \n",
      "1    2.951500  10.701500   23.451500  15.200000   -27.298501    33.501500  \n",
      "2    7.424417  15.252584   28.681580  16.018751   -24.794293    39.280710  \n",
      "3    9.345285  19.262121   39.227882  20.345172   -31.600810    49.779879  \n",
      "4   -0.160568   9.376650   25.202868  18.302228   -36.378919    36.829991  \n",
      "5    4.451610  14.383174   31.715622  19.424854   -34.178962    43.520455  \n",
      "6    0.000000   2.200000  158.500000   2.200000    -3.300000     5.500000  \n",
      "7    0.000000   1.600000  158.500000   1.600000    -2.400000     4.000000  \n",
      "8    0.000000   0.000000   24.920002   0.000000     0.000000     0.000000  \n",
      "9    0.000000   7.000000   24.000000   7.000000   -10.500000    17.500000  \n",
      "10  12.481153  16.641972   45.929283   7.463737    -2.017370    27.837577  \n",
      "11  30.960001  41.039997  128.520000  17.999998    -3.959998    68.039994  \n",
      "12   1.719142   3.204829    9.096640   2.515710    -3.084446     6.978393  \n"
     ]
    }
   ],
   "execution_count": 21
  },
  {
   "metadata": {
    "ExecuteTime": {
     "end_time": "2025-03-24T16:52:29.403841Z",
     "start_time": "2025-03-24T16:52:29.402283Z"
    }
   },
   "cell_type": "code",
   "source": [
    "# Get the variables that have the most outliers\n",
    "outlier_col = list(outlier_df[outlier_df['Outliers Count'] > 1000].Column)"
   ],
   "id": "e1af3edf6e5c764e",
   "outputs": [],
   "execution_count": 22
  },
  {
   "metadata": {
    "ExecuteTime": {
     "end_time": "2025-03-24T16:52:29.561917Z",
     "start_time": "2025-03-24T16:52:29.404355Z"
    }
   },
   "cell_type": "code",
   "source": [
    "# Create box plots to inspect the top outliers\n",
    "plt.figure(figsize=(15, 10))\n",
    "df.boxplot(column=list(outlier_col), figsize=(15, 10))\n",
    "plt.xticks(rotation=90)\n",
    "plt.title('Box Plots of Numerical Columns')\n",
    "plt.tight_layout()\n",
    "plt.show()"
   ],
   "id": "3868c1a1ff83dabd",
   "outputs": [
    {
     "data": {
      "text/plain": [
       "<Figure size 1500x1000 with 1 Axes>"
      ],
      "image/png": "[encoded data removed]"
     },
     "metadata": {},
     "output_type": "display_data"
    }
   ],
   "execution_count": 23
  },
  {
   "metadata": {},
   "cell_type": "markdown",
   "source": "After investagting the dataset for outliers it has become clear that the dataset does have outliers, but these outliers does fall under the expected behavior for weather patterns and in most cases represents extreme weather events, while in other cases the outliers represent weather events that don't occur frequently. For example it snowing in Zurich occurs infrequently.",
   "id": "6fb1bab74f6dead0"
  },
  {
   "metadata": {},
   "cell_type": "markdown",
   "source": "",
   "id": "4791e2409d76023a"
  },
  {
   "metadata": {},
   "cell_type": "markdown",
   "source": [
    "### Working with missing data\n",
    "\n",
    "Because the data is to clean and has no missing data, I am going to create missing data and the demonstrate how to deal with missing data, by randomly removing data from the dataset "
   ],
   "id": "a478479ca1c917a6"
  },
  {
   "metadata": {
    "ExecuteTime": {
     "end_time": "2025-03-29T17:20:09.820586Z",
     "start_time": "2025-03-29T17:20:09.739253Z"
    }
   },
   "cell_type": "code",
   "source": "df_mis = pd.read_csv(\"Data/start.csv\")",
   "id": "d1dc5c33f16b55ff",
   "outputs": [
    {
     "ename": "NameError",
     "evalue": "name 'pd' is not defined",
     "output_type": "error",
     "traceback": [
      "\u001B[31m---------------------------------------------------------------------------\u001B[39m",
      "\u001B[31mNameError\u001B[39m                                 Traceback (most recent call last)",
      "\u001B[36mCell\u001B[39m\u001B[36m \u001B[39m\u001B[32mIn[1]\u001B[39m\u001B[32m, line 1\u001B[39m\n\u001B[32m----> \u001B[39m\u001B[32m1\u001B[39m df_mis = \u001B[43mpd\u001B[49m.read_csv(\u001B[33m\"\u001B[39m\u001B[33mData/start.csv\u001B[39m\u001B[33m\"\u001B[39m)\n",
      "\u001B[31mNameError\u001B[39m: name 'pd' is not defined"
     ]
    }
   ],
   "execution_count": 1
  },
  {
   "metadata": {},
   "cell_type": "code",
   "outputs": [],
   "execution_count": null,
   "source": [
    "# Generate 1000 random numbers that represents the rows to apply missing values\n",
    "random_numbers = [random.randint(1, len(df_mis)) for _ in range(1000)]"
   ],
   "id": "e7f3e7ab38f70857"
  },
  {
   "metadata": {},
   "cell_type": "code",
   "outputs": [],
   "execution_count": 31,
   "source": [
    "# Get a list of all the column names\n",
    "columns = list(df_mis.columns)\n",
    "\n",
    "# Remove date and city from the list\n",
    "columns.remove('date')\n",
    "columns.remove('city')"
   ],
   "id": "bb9fed2173cd3d22"
  },
  {
   "metadata": {},
   "cell_type": "code",
   "outputs": [],
   "execution_count": 32,
   "source": [
    "# Randomly apply NaN values to the columns and rows\n",
    "for num in random_numbers:\n",
    "\tfor col in columns:\n",
    "\t\tif random.choice([0, 1]) == 1:\n",
    "\t\t\tdf_mis.loc[num, col] = np.nan"
   ],
   "id": "185134b3eea426dc"
  },
  {
   "metadata": {},
   "cell_type": "code",
   "outputs": [],
   "execution_count": null,
   "source": [
    "# Check the extend of the missing data\n",
    "print(df_mis.isna().sum())"
   ],
   "id": "df0b19e1eeb2bafb"
  },
  {
   "metadata": {},
   "cell_type": "code",
   "outputs": [
    {
     "data": {
      "text/plain": [
       "<Figure size 640x480 with 2 Axes>"
      ],
      "image/png": "[encoded data removed]"
     },
     "metadata": {},
     "output_type": "display_data"
    }
   ],
   "execution_count": 34,
   "source": [
    ".0# Plot a heat map for missing values\n",
    "sns.heatmap(df_mis.isnull(), cbar=True, cmap='viridis')\n",
    "plt.show()"
   ],
   "id": "6ccecd28cea51294"
  },
  {
   "metadata": {},
   "cell_type": "code",
   "outputs": [],
   "execution_count": 35,
   "source": [
    "# Fill missing values with interpolation\n",
    "# Using the linear method as it is the best fit for weather data\n",
    "df_filled = df_mis[columns].interpolate(method='linear')"
   ],
   "id": "b2da77ed637c8bad"
  },
  {
   "metadata": {},
   "cell_type": "code",
   "outputs": [
    {
     "name": "stdout",
     "output_type": "stream",
     "text": [
      "weather_code                   0\n",
      "temperature_2m_max             0\n",
      "temperature_2m_min             0\n",
      "temperature_2m_mean            0\n",
      "apparent_temperature_max       0\n",
      "apparent_temperature_min       0\n",
      "apparent_temperature_mean      0\n",
      "daylight_duration              0\n",
      "sunshine_duration              0\n",
      "precipitation_sum              0\n",
      "rain_sum                       0\n",
      "snowfall_sum                   0\n",
      "precipitation_hours            0\n",
      "wind_speed_10m_max             0\n",
      "wind_gusts_10m_max             0\n",
      "wind_direction_10m_dominant    0\n",
      "shortwave_radiation_sum        0\n",
      "et0_fao_evapotranspiration     0\n",
      "dtype: int64\n"
     ]
    }
   ],
   "execution_count": 36,
   "source": [
    "# Check if there is still missing values\n",
    "print(df_filled.isna().sum())"
   ],
   "id": "d7d53c8216fa577a"
  }
 ],
 "metadata": {
  "kernelspec": {
   "display_name": "Python 3",
   "language": "python",
   "name": "python3"
  },
  "language_info": {
   "codemirror_mode": {
    "name": "ipython",
    "version": 2
   },
   "file_extension": ".py",
   "mimetype": "text/x-python",
   "name": "python",
   "nbconvert_exporter": "python",
   "pygments_lexer": "ipython2",
   "version": "2.7.6"
  }
 },
 "nbformat": 4,
 "nbformat_minor": 5
}
