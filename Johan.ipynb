{
 "cells": [
  {
   "cell_type": "code",
   "id": "initial_id",
   "metadata": {
    "collapsed": true,
    "ExecuteTime": {
     "end_time": "2025-03-16T11:31:43.796554Z",
     "start_time": "2025-03-16T11:31:43.359492Z"
    }
   },
   "source": "import pandas as pd",
   "outputs": [],
   "execution_count": 1
  },
  {
   "metadata": {
    "ExecuteTime": {
     "end_time": "2025-03-16T11:31:43.830489Z",
     "start_time": "2025-03-16T11:31:43.797414Z"
    }
   },
   "cell_type": "code",
   "source": [
    "# Load the dataset\n",
    "df = pd.read_csv('Data/start.csv')"
   ],
   "id": "ee92a7442a45b2fc",
   "outputs": [],
   "execution_count": 2
  },
  {
   "metadata": {
    "ExecuteTime": {
     "end_time": "2025-03-16T11:51:04.341383Z",
     "start_time": "2025-03-16T11:51:04.333051Z"
    }
   },
   "cell_type": "code",
   "source": [
    "# Test if the all the values in these columns is zero\n",
    "print(sum(df.sunrise), sum(df.sunset))"
   ],
   "id": "c5fd6dcb816b04b",
   "outputs": [
    {
     "name": "stdout",
     "output_type": "stream",
     "text": [
      "0 0\n"
     ]
    }
   ],
   "execution_count": 7
  },
  {
   "metadata": {
    "ExecuteTime": {
     "end_time": "2025-03-14T10:35:40.432140Z",
     "start_time": "2025-03-14T10:35:40.427601Z"
    }
   },
   "cell_type": "code",
   "source": [
    "# Remove two columns with only zero values\n",
    "df = df.drop(['sunrise', 'sunset'], axis=1)"
   ],
   "id": "b453b757db0f1edc",
   "outputs": [],
   "execution_count": 10
  },
  {
   "metadata": {
    "ExecuteTime": {
     "end_time": "2025-03-14T11:41:02.693459Z",
     "start_time": "2025-03-14T11:41:02.561519Z"
    }
   },
   "cell_type": "code",
   "source": [
    "# Change the date format to be more readable\n",
    "df['date'] = pd.to_datetime(df['date']).dt.strftime('%Y/%m/%d')"
   ],
   "id": "6d2056563151d37",
   "outputs": [],
   "execution_count": 13
  },
  {
   "metadata": {
    "ExecuteTime": {
     "end_time": "2025-03-14T11:47:26.752155Z",
     "start_time": "2025-03-14T11:47:26.747811Z"
    }
   },
   "cell_type": "code",
   "source": [
    "# See if the column is the correct data type\n",
    "set(df.weather_code.unique())"
   ],
   "id": "53eef2c6ac12c8ff",
   "outputs": [
    {
     "data": {
      "text/plain": [
       "{np.float64(0.0),\n",
       " np.float64(1.0),\n",
       " np.float64(2.0),\n",
       " np.float64(3.0),\n",
       " np.float64(51.0),\n",
       " np.float64(53.0),\n",
       " np.float64(55.0),\n",
       " np.float64(61.0),\n",
       " np.float64(63.0),\n",
       " np.float64(65.0),\n",
       " np.float64(71.0),\n",
       " np.float64(73.0),\n",
       " np.float64(75.0)}"
      ]
     },
     "execution_count": 20,
     "metadata": {},
     "output_type": "execute_result"
    }
   ],
   "execution_count": 20
  },
  {
   "metadata": {
    "ExecuteTime": {
     "end_time": "2025-03-14T11:59:06.069980Z",
     "start_time": "2025-03-14T11:59:06.066256Z"
    }
   },
   "cell_type": "code",
   "source": "df['weather_code'] = df['weather_code'].astype(int)",
   "id": "1ad67d1576ab6b5d",
   "outputs": [],
   "execution_count": 21
  },
  {
   "metadata": {
    "ExecuteTime": {
     "end_time": "2025-03-14T11:59:17.664975Z",
     "start_time": "2025-03-14T11:59:17.652862Z"
    }
   },
   "cell_type": "code",
   "source": [
    "# Inspect the data\n",
    "df.head()"
   ],
   "id": "c3ba4ca33acdbd88",
   "outputs": [
    {
     "data": {
      "text/plain": [
       "         date  weather_code  temperature_2m_max  temperature_2m_min  \\\n",
       "0  1989/12/31             1              3.7505             -2.9995   \n",
       "1  1990/01/01             1              4.5005             -4.0495   \n",
       "2  1990/01/02             1              4.0505             -4.0995   \n",
       "3  1990/01/03             3              2.5505             -4.5495   \n",
       "4  1990/01/04            51              4.4505             -3.4495   \n",
       "\n",
       "   temperature_2m_mean  apparent_temperature_max  apparent_temperature_min  \\\n",
       "0            -0.076583                  0.898987                 -5.818353   \n",
       "1            -0.080750                  1.624582                 -6.882779   \n",
       "2            -1.020333                  0.180788                 -8.012788   \n",
       "3            -1.357833                 -0.165994                 -8.003006   \n",
       "4            -0.018250                  1.477664                 -6.503490   \n",
       "\n",
       "   apparent_temperature_mean  daylight_duration  sunshine_duration  \\\n",
       "0                  -2.794004          30754.969          25424.652   \n",
       "1                  -2.926928          30813.893          25491.350   \n",
       "2                  -4.714355          30877.549          25503.260   \n",
       "3                  -4.388062          30945.828          18682.740   \n",
       "4                  -3.029862          31018.617          24029.326   \n",
       "\n",
       "   precipitation_sum  rain_sum  snowfall_sum  precipitation_hours  \\\n",
       "0                0.0       0.0           0.0                  0.0   \n",
       "1                0.0       0.0           0.0                  0.0   \n",
       "2                0.0       0.0           0.0                  0.0   \n",
       "3                0.0       0.0           0.0                  0.0   \n",
       "4                1.0       1.0           0.0                  5.0   \n",
       "\n",
       "   wind_speed_10m_max  wind_gusts_10m_max  wind_direction_10m_dominant  \\\n",
       "0            2.545584           11.879999                   335.026100   \n",
       "1            5.052841           12.599999                   332.002960   \n",
       "2            9.178235           25.199999                    29.066843   \n",
       "3            5.351785           13.679999                   356.845280   \n",
       "4            7.200000           18.359999                   236.607400   \n",
       "\n",
       "   shortwave_radiation_sum  et0_fao_evapotranspiration    City  \n",
       "0                     5.56                    0.476961  Zurich  \n",
       "1                     5.49                    0.500982  Zurich  \n",
       "2                     5.60                    0.546437  Zurich  \n",
       "3                     4.44                    0.405223  Zurich  \n",
       "4                     3.65                    0.386904  Zurich  "
      ],
      "text/html": [
       "<div>\n",
       "<style scoped>\n",
       "    .dataframe tbody tr th:only-of-type {\n",
       "        vertical-align: middle;\n",
       "    }\n",
       "\n",
       "    .dataframe tbody tr th {\n",
       "        vertical-align: top;\n",
       "    }\n",
       "\n",
       "    .dataframe thead th {\n",
       "        text-align: right;\n",
       "    }\n",
       "</style>\n",
       "<table border=\"1\" class=\"dataframe\">\n",
       "  <thead>\n",
       "    <tr style=\"text-align: right;\">\n",
       "      <th></th>\n",
       "      <th>date</th>\n",
       "      <th>weather_code</th>\n",
       "      <th>temperature_2m_max</th>\n",
       "      <th>temperature_2m_min</th>\n",
       "      <th>temperature_2m_mean</th>\n",
       "      <th>apparent_temperature_max</th>\n",
       "      <th>apparent_temperature_min</th>\n",
       "      <th>apparent_temperature_mean</th>\n",
       "      <th>daylight_duration</th>\n",
       "      <th>sunshine_duration</th>\n",
       "      <th>precipitation_sum</th>\n",
       "      <th>rain_sum</th>\n",
       "      <th>snowfall_sum</th>\n",
       "      <th>precipitation_hours</th>\n",
       "      <th>wind_speed_10m_max</th>\n",
       "      <th>wind_gusts_10m_max</th>\n",
       "      <th>wind_direction_10m_dominant</th>\n",
       "      <th>shortwave_radiation_sum</th>\n",
       "      <th>et0_fao_evapotranspiration</th>\n",
       "      <th>City</th>\n",
       "    </tr>\n",
       "  </thead>\n",
       "  <tbody>\n",
       "    <tr>\n",
       "      <th>0</th>\n",
       "      <td>1989/12/31</td>\n",
       "      <td>1</td>\n",
       "      <td>3.7505</td>\n",
       "      <td>-2.9995</td>\n",
       "      <td>-0.076583</td>\n",
       "      <td>0.898987</td>\n",
       "      <td>-5.818353</td>\n",
       "      <td>-2.794004</td>\n",
       "      <td>30754.969</td>\n",
       "      <td>25424.652</td>\n",
       "      <td>0.0</td>\n",
       "      <td>0.0</td>\n",
       "      <td>0.0</td>\n",
       "      <td>0.0</td>\n",
       "      <td>2.545584</td>\n",
       "      <td>11.879999</td>\n",
       "      <td>335.026100</td>\n",
       "      <td>5.56</td>\n",
       "      <td>0.476961</td>\n",
       "      <td>Zurich</td>\n",
       "    </tr>\n",
       "    <tr>\n",
       "      <th>1</th>\n",
       "      <td>1990/01/01</td>\n",
       "      <td>1</td>\n",
       "      <td>4.5005</td>\n",
       "      <td>-4.0495</td>\n",
       "      <td>-0.080750</td>\n",
       "      <td>1.624582</td>\n",
       "      <td>-6.882779</td>\n",
       "      <td>-2.926928</td>\n",
       "      <td>30813.893</td>\n",
       "      <td>25491.350</td>\n",
       "      <td>0.0</td>\n",
       "      <td>0.0</td>\n",
       "      <td>0.0</td>\n",
       "      <td>0.0</td>\n",
       "      <td>5.052841</td>\n",
       "      <td>12.599999</td>\n",
       "      <td>332.002960</td>\n",
       "      <td>5.49</td>\n",
       "      <td>0.500982</td>\n",
       "      <td>Zurich</td>\n",
       "    </tr>\n",
       "    <tr>\n",
       "      <th>2</th>\n",
       "      <td>1990/01/02</td>\n",
       "      <td>1</td>\n",
       "      <td>4.0505</td>\n",
       "      <td>-4.0995</td>\n",
       "      <td>-1.020333</td>\n",
       "      <td>0.180788</td>\n",
       "      <td>-8.012788</td>\n",
       "      <td>-4.714355</td>\n",
       "      <td>30877.549</td>\n",
       "      <td>25503.260</td>\n",
       "      <td>0.0</td>\n",
       "      <td>0.0</td>\n",
       "      <td>0.0</td>\n",
       "      <td>0.0</td>\n",
       "      <td>9.178235</td>\n",
       "      <td>25.199999</td>\n",
       "      <td>29.066843</td>\n",
       "      <td>5.60</td>\n",
       "      <td>0.546437</td>\n",
       "      <td>Zurich</td>\n",
       "    </tr>\n",
       "    <tr>\n",
       "      <th>3</th>\n",
       "      <td>1990/01/03</td>\n",
       "      <td>3</td>\n",
       "      <td>2.5505</td>\n",
       "      <td>-4.5495</td>\n",
       "      <td>-1.357833</td>\n",
       "      <td>-0.165994</td>\n",
       "      <td>-8.003006</td>\n",
       "      <td>-4.388062</td>\n",
       "      <td>30945.828</td>\n",
       "      <td>18682.740</td>\n",
       "      <td>0.0</td>\n",
       "      <td>0.0</td>\n",
       "      <td>0.0</td>\n",
       "      <td>0.0</td>\n",
       "      <td>5.351785</td>\n",
       "      <td>13.679999</td>\n",
       "      <td>356.845280</td>\n",
       "      <td>4.44</td>\n",
       "      <td>0.405223</td>\n",
       "      <td>Zurich</td>\n",
       "    </tr>\n",
       "    <tr>\n",
       "      <th>4</th>\n",
       "      <td>1990/01/04</td>\n",
       "      <td>51</td>\n",
       "      <td>4.4505</td>\n",
       "      <td>-3.4495</td>\n",
       "      <td>-0.018250</td>\n",
       "      <td>1.477664</td>\n",
       "      <td>-6.503490</td>\n",
       "      <td>-3.029862</td>\n",
       "      <td>31018.617</td>\n",
       "      <td>24029.326</td>\n",
       "      <td>1.0</td>\n",
       "      <td>1.0</td>\n",
       "      <td>0.0</td>\n",
       "      <td>5.0</td>\n",
       "      <td>7.200000</td>\n",
       "      <td>18.359999</td>\n",
       "      <td>236.607400</td>\n",
       "      <td>3.65</td>\n",
       "      <td>0.386904</td>\n",
       "      <td>Zurich</td>\n",
       "    </tr>\n",
       "  </tbody>\n",
       "</table>\n",
       "</div>"
      ]
     },
     "execution_count": 22,
     "metadata": {},
     "output_type": "execute_result"
    }
   ],
   "execution_count": 22
  },
  {
   "metadata": {
    "ExecuteTime": {
     "end_time": "2025-03-16T11:39:40.471912Z",
     "start_time": "2025-03-16T11:39:40.456697Z"
    }
   },
   "cell_type": "code",
   "source": [
    "# Assuming you already have a DataFrame called 'df'\n",
    "random_sample = df.sample(n=20)"
   ],
   "id": "1be17c20770a0dd",
   "outputs": [],
   "execution_count": 4
  },
  {
   "metadata": {
    "ExecuteTime": {
     "end_time": "2025-03-16T11:40:26.118914Z",
     "start_time": "2025-03-16T11:40:26.113138Z"
    }
   },
   "cell_type": "code",
   "source": "random_sample.to_json('Data/random_sample.csv')",
   "id": "e176943205e78dfd",
   "outputs": [],
   "execution_count": 6
  },
  {
   "metadata": {},
   "cell_type": "code",
   "outputs": [],
   "execution_count": null,
   "source": "",
   "id": "32e7b6ddd2b190f6"
  }
 ],
 "metadata": {
  "kernelspec": {
   "display_name": "Python 3",
   "language": "python",
   "name": "python3"
  },
  "language_info": {
   "codemirror_mode": {
    "name": "ipython",
    "version": 2
   },
   "file_extension": ".py",
   "mimetype": "text/x-python",
   "name": "python",
   "nbconvert_exporter": "python",
   "pygments_lexer": "ipython2",
   "version": "2.7.6"
  }
 },
 "nbformat": 4,
 "nbformat_minor": 5
}
