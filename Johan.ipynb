{
 "cells": [
  {
   "cell_type": "code",
   "id": "initial_id",
   "metadata": {
    "collapsed": true,
    "ExecuteTime": {
     "end_time": "2025-04-04T09:39:05.849290Z",
     "start_time": "2025-04-04T09:39:05.778268Z"
    }
   },
   "source": [
    "# Load all the required packages\n",
    "import pandas as pd\n",
    "import numpy as np\n",
    "import matplotlib.pyplot as plt\n",
    "import openmeteo_requests\n",
    "import requests_cache\n",
    "from retry_requests import retry\n",
    "import os\n",
    "import time\n",
    "import random\n",
    "import seaborn as sns"
   ],
   "outputs": [],
   "execution_count": 1
  },
  {
   "metadata": {},
   "cell_type": "markdown",
   "source": "### Call the API, fetch the required data and create the dataframe",
   "id": "1cd7991a838d2788"
  },
  {
   "metadata": {
    "ExecuteTime": {
     "end_time": "2025-04-02T10:48:10.836207Z",
     "start_time": "2025-04-02T10:48:10.834031Z"
    }
   },
   "cell_type": "code",
   "source": [
    "# create a data directory call Data for our data\n",
    "os.makedirs(\"Data\", exist_ok=True)\n",
    "print(f\"Folder Data created successfully!\")"
   ],
   "id": "9a6a7ac6612b61b",
   "outputs": [
    {
     "name": "stdout",
     "output_type": "stream",
     "text": [
      "Folder Data created successfully!\n"
     ]
    }
   ],
   "execution_count": 54
  },
  {
   "metadata": {
    "ExecuteTime": {
     "end_time": "2025-04-02T10:48:10.839553Z",
     "start_time": "2025-04-02T10:48:10.837392Z"
    }
   },
   "cell_type": "code",
   "source": [
    "# Declare the latitude and longitude for both cities\n",
    "cities = {\"Zurich\": {'loc': [\"47.3769\", \"8.5417\"]},\n",
    "\t\t  \"Seattle\": {'loc': [\"47.6062\", \"122.3321\"]}}"
   ],
   "id": "b2144baa0a11183f",
   "outputs": [],
   "execution_count": 55
  },
  {
   "metadata": {
    "ExecuteTime": {
     "end_time": "2025-04-02T10:48:10.846670Z",
     "start_time": "2025-04-02T10:48:10.841155Z"
    }
   },
   "cell_type": "code",
   "source": [
    "# Setup the Open-Meteo API client with cache and retry on error\n",
    "cache_session = requests_cache.CachedSession('.cache', expire_after = -1)\n",
    "retry_session = retry(cache_session, retries = 5, backoff_factor = 0.2)\n",
    "openmeteo = openmeteo_requests.Client(session = retry_session)"
   ],
   "id": "11d3f66e4f425ffd",
   "outputs": [],
   "execution_count": 56
  },
  {
   "metadata": {
    "ExecuteTime": {
     "end_time": "2025-04-02T10:48:10.869579Z",
     "start_time": "2025-04-02T10:48:10.865044Z"
    }
   },
   "cell_type": "code",
   "source": [
    "def call_API(city, openmeteo, cities):\n",
    "    # Set the API call parameters\n",
    "    url = \"https://archive-api.open-meteo.com/v1/archive\"\n",
    "    params = {\n",
    "       \"latitude\": cities[city]['loc'][0],\n",
    "       \"longitude\": cities[city]['loc'][1],\n",
    "       \"start_date\": \"1940-01-01\",\n",
    "       \"end_date\": \"2024-12-31\",\n",
    "       \"daily\": [\"weather_code\", \"temperature_2m_max\", \"temperature_2m_min\", \"temperature_2m_mean\", \"apparent_temperature_max\", \"apparent_temperature_min\", \"apparent_temperature_mean\", \"sunrise\", \"sunset\", \"daylight_duration\", \"sunshine_duration\", \"precipitation_sum\", \"rain_sum\", \"snowfall_sum\", \"precipitation_hours\", \"wind_speed_10m_max\", \"wind_gusts_10m_max\", \"wind_direction_10m_dominant\", \"shortwave_radiation_sum\", \"et0_fao_evapotranspiration\"],\n",
    "       \"timezone\": cities[city].get('timezone', \"Europe/Berlin\")  # Use city timezone or default to Europe/Berlin\n",
    "    }\n",
    "    responses = openmeteo.weather_api(url, params=params)\n",
    "    \n",
    "    # Print the first part of the API response to validate the call data is valid\n",
    "    response = responses[0]\n",
    "    print(f\"Coordinates {response.Latitude()}°N {response.Longitude()}°E\")\n",
    "    print(f\"Elevation {response.Elevation()} m asl\")\n",
    "    print(f\"Timezone {response.Timezone()} {response.TimezoneAbbreviation()}\")\n",
    "    print(f\"Timezone difference to GMT+0 {response.UtcOffsetSeconds()} s\")\n",
    "    \n",
    "    return response"
   ],
   "id": "960e2caa2495d011",
   "outputs": [],
   "execution_count": 57
  },
  {
   "metadata": {},
   "cell_type": "markdown",
   "source": "In the create_dataframe function we validate the data types as we receive the data, we also change the date format into a readable format and into a format that useful for our project as we don't need anything but the date. This save us from performing these tasks later on when we clean our data.",
   "id": "76d20c9a60cd18f7"
  },
  {
   "metadata": {
    "ExecuteTime": {
     "end_time": "2025-04-02T10:48:10.903518Z",
     "start_time": "2025-04-02T10:48:10.899562Z"
    }
   },
   "cell_type": "code",
   "source": [
    "def create_dataframe(response):\n",
    "\t# Process data and validate variable types\n",
    "\tdaily = response.Daily()\n",
    "\tdaily_weather_code = daily.Variables(0).ValuesAsNumpy()\n",
    "\tdaily_temperature_2m_max = daily.Variables(1).ValuesAsNumpy()\n",
    "\tdaily_temperature_2m_min = daily.Variables(2).ValuesAsNumpy()\n",
    "\tdaily_temperature_2m_mean = daily.Variables(3).ValuesAsNumpy()\n",
    "\tdaily_apparent_temperature_max = daily.Variables(4).ValuesAsNumpy()\n",
    "\tdaily_apparent_temperature_min = daily.Variables(5).ValuesAsNumpy()\n",
    "\tdaily_apparent_temperature_mean = daily.Variables(6).ValuesAsNumpy()\n",
    "\tdaily_sunrise = daily.Variables(7).ValuesAsNumpy()\n",
    "\tdaily_sunset = daily.Variables(8).ValuesAsNumpy()\n",
    "\tdaily_daylight_duration = daily.Variables(9).ValuesAsNumpy()\n",
    "\tdaily_sunshine_duration = daily.Variables(10).ValuesAsNumpy()\n",
    "\tdaily_precipitation_sum = daily.Variables(11).ValuesAsNumpy()\n",
    "\tdaily_rain_sum = daily.Variables(12).ValuesAsNumpy()\n",
    "\tdaily_snowfall_sum = daily.Variables(13).ValuesAsNumpy()\n",
    "\tdaily_precipitation_hours = daily.Variables(14).ValuesAsNumpy()\n",
    "\tdaily_wind_speed_10m_max = daily.Variables(15).ValuesAsNumpy()\n",
    "\tdaily_wind_gusts_10m_max = daily.Variables(16).ValuesAsNumpy()\n",
    "\tdaily_wind_direction_10m_dominant = daily.Variables(17).ValuesAsNumpy()\n",
    "\tdaily_shortwave_radiation_sum = daily.Variables(18).ValuesAsNumpy()\n",
    "\tdaily_et0_fao_evapotranspiration = daily.Variables(19).ValuesAsNumpy()\n",
    "\t\n",
    "\t# Format the date variable to readable format\n",
    "\tdaily_data = {\"date\": pd.date_range(\n",
    "\t\tstart = pd.to_datetime(daily.Time(), unit = \"s\", utc = True),\n",
    "\t\tend = pd.to_datetime(daily.TimeEnd(), unit = \"s\", utc = True),\n",
    "\t\tfreq = pd.Timedelta(seconds = daily.Interval()),\n",
    "\t\tinclusive = \"left\"\n",
    "\t\t).strftime('%Y/%m/%d')\n",
    "\t}\n",
    "\t\n",
    "\t# Create the pandas dataframe\n",
    "\tdaily_data[\"weather_code\"] = daily_weather_code\n",
    "\tdaily_data[\"temperature_2m_max\"] = daily_temperature_2m_max\n",
    "\tdaily_data[\"temperature_2m_min\"] = daily_temperature_2m_min\n",
    "\tdaily_data[\"temperature_2m_mean\"] = daily_temperature_2m_mean\n",
    "\tdaily_data[\"apparent_temperature_max\"] = daily_apparent_temperature_max\n",
    "\tdaily_data[\"apparent_temperature_min\"] = daily_apparent_temperature_min\n",
    "\tdaily_data[\"apparent_temperature_mean\"] = daily_apparent_temperature_mean\n",
    "\tdaily_data[\"sunrise\"] = daily_sunrise\n",
    "\tdaily_data[\"sunset\"] = daily_sunset\n",
    "\tdaily_data[\"daylight_duration\"] = daily_daylight_duration\n",
    "\tdaily_data[\"sunshine_duration\"] = daily_sunshine_duration\n",
    "\tdaily_data[\"precipitation_sum\"] = daily_precipitation_sum\n",
    "\tdaily_data[\"rain_sum\"] = daily_rain_sum\n",
    "\tdaily_data[\"snowfall_sum\"] = daily_snowfall_sum\n",
    "\tdaily_data[\"precipitation_hours\"] = daily_precipitation_hours\n",
    "\tdaily_data[\"wind_speed_10m_max\"] = daily_wind_speed_10m_max\n",
    "\tdaily_data[\"wind_gusts_10m_max\"] = daily_wind_gusts_10m_max\n",
    "\tdaily_data[\"wind_direction_10m_dominant\"] = daily_wind_direction_10m_dominant\n",
    "\tdaily_data[\"shortwave_radiation_sum\"] = daily_shortwave_radiation_sum\n",
    "\tdaily_data[\"et0_fao_evapotranspiration\"] = daily_et0_fao_evapotranspiration\n",
    "\t\n",
    "\t# Make a dataframe from the dictionary\n",
    "\tdaily_dataframe = pd.DataFrame(data = daily_data)\n",
    "\t\n",
    "\treturn daily_dataframe"
   ],
   "id": "373cfc0fc00685a2",
   "outputs": [],
   "execution_count": 58
  },
  {
   "metadata": {
    "ExecuteTime": {
     "end_time": "2025-04-02T10:48:10.905702Z",
     "start_time": "2025-04-02T10:48:10.904178Z"
    }
   },
   "cell_type": "code",
   "source": [
    "def save_df(data, city):\n",
    "\t# Save the dataframe as csv file\n",
    "\tdata.to_csv(f\"Data/{city}.csv\", index = False)\n",
    "\tprint(f\"Saved data for '{city}' successfully!\")"
   ],
   "id": "6365bdfece8b966e",
   "outputs": [],
   "execution_count": 59
  },
  {
   "metadata": {
    "ExecuteTime": {
     "end_time": "2025-04-02T10:48:10.915682Z",
     "start_time": "2025-04-02T10:48:10.913976Z"
    }
   },
   "cell_type": "code",
   "source": [
    "def combine_dataframes():\n",
    "\t# Create a single dataframe from the 2 datasets\n",
    "\t# Load the 2 datasets\n",
    "\tdf1 = pd.read_csv(\"Data/Zurich.csv\")\n",
    "\tdf2 = pd.read_csv(\"Data/Seattle.csv\")\n",
    "\t\n",
    "\t# Add a column to contains the city name\n",
    "\tdf1['City'] = 'Zurich'\n",
    "\tdf2['City'] = 'Seattle'\n",
    "\t\n",
    "\t# Concatenate the 2 dataframes\n",
    "\tstart_df = pd.concat([df1, df2], ignore_index=True)\n",
    "\t\n",
    "\t# Write combined dataframes to csv file\n",
    "\tstart_df.to_csv(\"Data/start.csv\", index = False)"
   ],
   "id": "c3f08b8341e6dafd",
   "outputs": [],
   "execution_count": 60
  },
  {
   "metadata": {
    "ExecuteTime": {
     "end_time": "2025-04-02T10:50:11.461921Z",
     "start_time": "2025-04-02T10:48:10.916833Z"
    }
   },
   "cell_type": "code",
   "source": [
    "# Call the API and save the as csv files\n",
    "# Saving as csv files to limit the amount of calls to data provider\n",
    "count = 0\n",
    "for city in cities:\n",
    "\tresponse = call_API(city, openmeteo, cities)\n",
    "\tdata = create_dataframe(response)\n",
    "\tsave_df(data, city)\n",
    "\tprint('\\n')\n",
    "\n",
    "\t# Delay the 2nd API call for 2 minutes to not violate limits on API calls\n",
    "\tif count < 1:\n",
    "\t\ttime.sleep(120)\n",
    "\tcount += 1"
   ],
   "id": "6b525a331b6648f1",
   "outputs": [
    {
     "name": "stdout",
     "output_type": "stream",
     "text": [
      "Coordinates 47.34621810913086°N 8.54337215423584°E\n",
      "Elevation 409.0 m asl\n",
      "Timezone b'Europe/Berlin' b'GMT+2'\n",
      "Timezone difference to GMT+0 7200 s\n",
      "Saved data for 'Zurich' successfully!\n",
      "\n",
      "\n",
      "Coordinates 47.62741470336914°N 122.17462158203125°E\n",
      "Elevation 577.0 m asl\n",
      "Timezone b'Europe/Berlin' b'GMT+2'\n",
      "Timezone difference to GMT+0 7200 s\n",
      "Saved data for 'Seattle' successfully!\n",
      "\n",
      "\n"
     ]
    }
   ],
   "execution_count": 61
  },
  {
   "metadata": {
    "ExecuteTime": {
     "end_time": "2025-04-02T10:50:11.535450Z",
     "start_time": "2025-04-02T10:50:11.462967Z"
    }
   },
   "cell_type": "code",
   "source": [
    "# Create a single dataframe from the 2 datasets\n",
    "# Load the 2 datasets\n",
    "df1 = pd.read_csv(\"Data/Zurich.csv\")\n",
    "df2 = pd.read_csv(\"Data/Seattle.csv\")\n",
    "\n",
    "# Add a column to contains the city name\n",
    "df1['city'] = 'Zurich'\n",
    "df2['city'] = 'Seattle'\n",
    "\n",
    "# Concatenate the 2 dataframes\n",
    "df = pd.concat([df1, df2], ignore_index=True)"
   ],
   "id": "fae2e83dcbed7d85",
   "outputs": [],
   "execution_count": 62
  },
  {
   "metadata": {
    "ExecuteTime": {
     "end_time": "2025-04-02T10:50:11.537796Z",
     "start_time": "2025-04-02T10:50:11.536123Z"
    }
   },
   "cell_type": "code",
   "source": [
    "# Delete files no longer required\n",
    "os.remove(\"Data/Seattle.csv\")\n",
    "os.remove(\"Data/Zurich.csv\")"
   ],
   "id": "62d6cc636163fc6b",
   "outputs": [],
   "execution_count": 63
  },
  {
   "metadata": {},
   "cell_type": "markdown",
   "source": [
    "### Clean the dataset\n",
    "Some of the data cleaning was preformed when we received the data from the API calls as it was deemed a more effiecent."
   ],
   "id": "bd7d948b63b5fa93"
  },
  {
   "metadata": {
    "ExecuteTime": {
     "end_time": "2025-04-02T10:50:11.542522Z",
     "start_time": "2025-04-02T10:50:11.538778Z"
    }
   },
   "cell_type": "code",
   "source": [
    "# Identify numerical columns\n",
    "numerical_cols = df.select_dtypes(include=[np.number]).columns.tolist()"
   ],
   "id": "7898804ca335e1df",
   "outputs": [],
   "execution_count": 64
  },
  {
   "metadata": {
    "ExecuteTime": {
     "end_time": "2025-04-02T10:50:11.547056Z",
     "start_time": "2025-04-02T10:50:11.543131Z"
    }
   },
   "cell_type": "code",
   "source": [
    "# Check for empty or all zeros columns\n",
    "empty_cols = []\n",
    "for col in numerical_cols:\n",
    "\tif df[col].sum() == 0:\n",
    "\t\tempty_cols.append(col)\n",
    "\t\t\n",
    "print(empty_cols)"
   ],
   "id": "587035f9ceb038b7",
   "outputs": [
    {
     "name": "stdout",
     "output_type": "stream",
     "text": [
      "['sunrise', 'sunset']\n"
     ]
    }
   ],
   "execution_count": 65
  },
  {
   "metadata": {
    "ExecuteTime": {
     "end_time": "2025-04-02T10:50:11.550931Z",
     "start_time": "2025-04-02T10:50:11.547719Z"
    }
   },
   "cell_type": "code",
   "source": [
    "# Remove two columns with only zero values\n",
    "df = df.drop(empty_cols, axis=1)"
   ],
   "id": "b453b757db0f1edc",
   "outputs": [],
   "execution_count": 66
  },
  {
   "metadata": {
    "ExecuteTime": {
     "end_time": "2025-04-02T10:50:11.555459Z",
     "start_time": "2025-04-02T10:50:11.551481Z"
    }
   },
   "cell_type": "code",
   "source": [
    "# Get index of rows with NaN values\n",
    "nan_rows = df[df.isna().any(axis=1)].index.tolist()\n",
    "\n",
    "print(nan_rows)"
   ],
   "id": "65a904ec4ef376d0",
   "outputs": [
    {
     "name": "stdout",
     "output_type": "stream",
     "text": [
      "[0, 31047]\n"
     ]
    }
   ],
   "execution_count": 67
  },
  {
   "metadata": {
    "ExecuteTime": {
     "end_time": "2025-04-02T10:50:11.561300Z",
     "start_time": "2025-04-02T10:50:11.555928Z"
    }
   },
   "cell_type": "code",
   "source": "df = df.drop(index=nan_rows, axis=0)",
   "id": "9c0f7f0a81a06174",
   "outputs": [],
   "execution_count": 68
  },
  {
   "metadata": {
    "ExecuteTime": {
     "end_time": "2025-04-02T10:50:11.565107Z",
     "start_time": "2025-04-02T10:50:11.561902Z"
    }
   },
   "cell_type": "code",
   "source": [
    "# See if the column is the correct data type\n",
    "set(df.weather_code.unique())"
   ],
   "id": "53eef2c6ac12c8ff",
   "outputs": [
    {
     "data": {
      "text/plain": [
       "{np.float64(0.0),\n",
       " np.float64(1.0),\n",
       " np.float64(2.0),\n",
       " np.float64(3.0),\n",
       " np.float64(51.0),\n",
       " np.float64(53.0),\n",
       " np.float64(55.0),\n",
       " np.float64(61.0),\n",
       " np.float64(63.0),\n",
       " np.float64(65.0),\n",
       " np.float64(71.0),\n",
       " np.float64(73.0),\n",
       " np.float64(75.0)}"
      ]
     },
     "execution_count": 69,
     "metadata": {},
     "output_type": "execute_result"
    }
   ],
   "execution_count": 69
  },
  {
   "metadata": {
    "ExecuteTime": {
     "end_time": "2025-04-02T10:50:11.568356Z",
     "start_time": "2025-04-02T10:50:11.566597Z"
    }
   },
   "cell_type": "code",
   "source": "df['weather_code'] = df['weather_code'].astype(int)",
   "id": "1ad67d1576ab6b5d",
   "outputs": [],
   "execution_count": 70
  },
  {
   "metadata": {
    "ExecuteTime": {
     "end_time": "2025-04-02T10:50:11.877644Z",
     "start_time": "2025-04-02T10:50:11.568754Z"
    }
   },
   "cell_type": "code",
   "source": [
    "# Write cleaned dataframe to csv file to limit API calls\n",
    "df.to_csv(\"Data/clean.csv\", index = False)"
   ],
   "id": "31215bd737be924",
   "outputs": [],
   "execution_count": 71
  },
  {
   "metadata": {},
   "cell_type": "markdown",
   "source": "### Check the dataset for outliers",
   "id": "dd43e5c74e37ad87"
  },
  {
   "metadata": {
    "ExecuteTime": {
     "end_time": "2025-04-02T10:50:11.882261Z",
     "start_time": "2025-04-02T10:50:11.878278Z"
    }
   },
   "cell_type": "code",
   "source": [
    "# Identify remaining numerical columns\n",
    "num_cols = df.select_dtypes(include=[np.number]).columns.tolist()"
   ],
   "id": "fc26876d5ffbc5ed",
   "outputs": [],
   "execution_count": 72
  },
  {
   "metadata": {
    "ExecuteTime": {
     "end_time": "2025-04-02T10:50:11.916278Z",
     "start_time": "2025-04-02T10:50:11.882787Z"
    }
   },
   "cell_type": "code",
   "source": [
    "# Find outliers for each column\n",
    "outlier_results = []\n",
    "\n",
    "for col in num_cols:\n",
    "    # Calculate quartiles\n",
    "    Q1 = df[col].quantile(0.25)\n",
    "    Q3 = df[col].quantile(0.75)\n",
    "    IQR = Q3 - Q1\n",
    "    \n",
    "    # Define outlier boundaries\n",
    "    lower_bound = Q1 - 1.5 * IQR\n",
    "    upper_bound = Q3 + 1.5 * IQR\n",
    "    \n",
    "    # Find outliers\n",
    "    outliers = df[(df[col] < lower_bound) | (df[col] > upper_bound)]\n",
    "    num_outliers = len(outliers)\n",
    "    \n",
    "    # Only inspect \n",
    "    if num_outliers > 0:\n",
    "        outlier_results.append({\n",
    "            'Column': col,\n",
    "            'Outliers Count': num_outliers,\n",
    "            'Min': df[col].min(),\n",
    "            'Q1': Q1,\n",
    "            'Median': df[col].median(),\n",
    "            'Q3': Q3,\n",
    "            'Max': df[col].max(),\n",
    "            'IQR': IQR,\n",
    "            'Lower Bound': lower_bound,\n",
    "            'Upper Bound': upper_bound\n",
    "        })\n",
    "\n",
    "# Create DataFrame with outlier results\n",
    "outlier_df = pd.DataFrame(outlier_results)\n",
    "print(\"\\nOutlier Summary:\")\n",
    "print(outlier_df)"
   ],
   "id": "dbba35fc0b9af32f",
   "outputs": [
    {
     "name": "stdout",
     "output_type": "stream",
     "text": [
      "\n",
      "Outlier Summary:\n",
      "                        Column  Outliers Count        Min         Q1  \\\n",
      "0           temperature_2m_max             102 -28.598500   3.000500   \n",
      "1           temperature_2m_min             681 -35.448500  -4.549500   \n",
      "2          temperature_2m_mean             304 -33.098495  -0.762271   \n",
      "3     apparent_temperature_max              26 -35.357895  -1.080085   \n",
      "4     apparent_temperature_min             149 -41.875416  -9.011585   \n",
      "5    apparent_temperature_mean              50 -39.440940  -5.021727   \n",
      "6            precipitation_sum            8736   0.000000   0.000000   \n",
      "7                     rain_sum           10032   0.000000   0.000000   \n",
      "8                 snowfall_sum            7709   0.000000   0.000000   \n",
      "9          precipitation_hours            4548   0.000000   0.000000   \n",
      "10          wind_speed_10m_max             916   1.440000   9.178235   \n",
      "11          wind_gusts_10m_max             957   7.559999  23.039999   \n",
      "12  et0_fao_evapotranspiration              57   0.088252   0.688957   \n",
      "\n",
      "       Median         Q3         Max        IQR  Lower Bound  Upper Bound  \n",
      "0   12.150499  19.950500   37.380500  16.950000   -22.424500    45.375500  \n",
      "1    2.850500  10.650499   22.792000  15.199999   -27.349499    33.450497  \n",
      "2    7.424876  15.255939   28.792168  16.018210   -24.789585    39.283253  \n",
      "3    9.361658  19.270003   39.227882  20.350088   -31.605217    49.795135  \n",
      "4   -0.270210   9.293872   25.202868  18.305457   -36.469770    36.752058  \n",
      "5    4.459098  14.391735   31.839455  19.413462   -34.141919    43.511927  \n",
      "6    0.000000   2.200000  155.500000   2.200000    -3.300000     5.500000  \n",
      "7    0.000000   1.600000  155.500000   1.600000    -2.400000     4.000000  \n",
      "8    0.000000   0.000000   23.730001   0.000000     0.000000     0.000000  \n",
      "9    0.000000   7.000000   24.000000   7.000000   -10.500000    17.500000  \n",
      "10  12.475961  16.595179   45.929283   7.416944    -1.947181    27.720595  \n",
      "11  30.960001  41.039997  128.520000  17.999998    -3.959998    68.039994  \n",
      "12   1.719225   3.204005    8.984698   2.515048    -3.083615     6.976577  \n"
     ]
    }
   ],
   "execution_count": 73
  },
  {
   "metadata": {
    "ExecuteTime": {
     "end_time": "2025-04-02T10:50:11.918603Z",
     "start_time": "2025-04-02T10:50:11.916844Z"
    }
   },
   "cell_type": "code",
   "source": [
    "# Get the variables that have the most outliers\n",
    "outlier_col = list(outlier_df[outlier_df['Outliers Count'] > 1000].Column)"
   ],
   "id": "e1af3edf6e5c764e",
   "outputs": [],
   "execution_count": 74
  },
  {
   "metadata": {
    "ExecuteTime": {
     "end_time": "2025-04-02T10:50:12.047496Z",
     "start_time": "2025-04-02T10:50:11.919143Z"
    }
   },
   "cell_type": "code",
   "source": [
    "# Create box plots to inspect the top outliers\n",
    "plt.figure(figsize=(15, 10))\n",
    "df.boxplot(column=list(outlier_col), figsize=(15, 10))\n",
    "plt.xticks(rotation=90)\n",
    "plt.title('Box Plots of Numerical Columns')\n",
    "plt.tight_layout()\n",
    "plt.show()"
   ],
   "id": "3868c1a1ff83dabd",
   "outputs": [
    {
     "data": {
      "text/plain": [
       "<Figure size 1500x1000 with 1 Axes>"
      ],
      "image/png": "[encoded data removed]"
     },
     "metadata": {},
     "output_type": "display_data"
    }
   ],
   "execution_count": 75
  },
  {
   "metadata": {},
   "cell_type": "markdown",
   "source": "After investagting the dataset for outliers it has become clear that the dataset does have outliers, but these outliers does fall under the expected behavior for weather patterns and in most cases represents extreme weather events, while in other cases the outliers represent weather events that don't occur frequently. For example it snowing in Zurich occurs infrequently.",
   "id": "6fb1bab74f6dead0"
  },
  {
   "metadata": {},
   "cell_type": "markdown",
   "source": [
    "### Working with missing data\n",
    "\n",
    "Because the data is to clean and has no missing data, I am going to create missing data and the demonstrate how to deal with missing data, by randomly removing data from the dataset"
   ],
   "id": "498cc6037f8abda"
  },
  {
   "metadata": {
    "ExecuteTime": {
     "end_time": "2025-04-02T10:50:12.111526Z",
     "start_time": "2025-04-02T10:50:12.048018Z"
    }
   },
   "cell_type": "code",
   "source": "df_mis = pd.read_csv(\"Data/clean.csv\")",
   "id": "20bb0107b7fb8229",
   "outputs": [],
   "execution_count": 76
  },
  {
   "metadata": {
    "ExecuteTime": {
     "end_time": "2025-04-02T10:50:12.114062Z",
     "start_time": "2025-04-02T10:50:12.112081Z"
    }
   },
   "cell_type": "code",
   "source": [
    "# Generate 1000 random numbers that represents the rows to apply missing values\n",
    "random_numbers = [random.randint(1, len(df_mis)) for _ in range(1000)]"
   ],
   "id": "bca5c59682172366",
   "outputs": [],
   "execution_count": 77
  },
  {
   "metadata": {
    "ExecuteTime": {
     "end_time": "2025-04-02T10:50:12.115954Z",
     "start_time": "2025-04-02T10:50:12.114544Z"
    }
   },
   "cell_type": "code",
   "source": [
    "# Get a list of all the column names\n",
    "columns = list(df_mis.columns)\n",
    "\n",
    "# Remove date and city from the list\n",
    "columns.remove('date')\n",
    "columns.remove('city')"
   ],
   "id": "e41185059391c870",
   "outputs": [],
   "execution_count": 78
  },
  {
   "metadata": {
    "ExecuteTime": {
     "end_time": "2025-04-02T10:50:12.597317Z",
     "start_time": "2025-04-02T10:50:12.116459Z"
    }
   },
   "cell_type": "code",
   "source": [
    "# Randomly apply NaN values to the columns and rows\n",
    "for num in random_numbers:\n",
    "\tfor col in columns:\n",
    "\t\tif random.choice([0, 1]) == 1:\n",
    "\t\t\tdf_mis.loc[num, col] = np.nan"
   ],
   "id": "b2452b6679253c6",
   "outputs": [],
   "execution_count": 79
  },
  {
   "metadata": {
    "ExecuteTime": {
     "end_time": "2025-04-02T10:50:12.602227Z",
     "start_time": "2025-04-02T10:50:12.598079Z"
    }
   },
   "cell_type": "code",
   "source": [
    "# Check the extend of the missing data\n",
    "print(df_mis.isna().sum())"
   ],
   "id": "330189bf1b80586d",
   "outputs": [
    {
     "name": "stdout",
     "output_type": "stream",
     "text": [
      "date                             0\n",
      "weather_code                   473\n",
      "temperature_2m_max             472\n",
      "temperature_2m_min             476\n",
      "temperature_2m_mean            512\n",
      "apparent_temperature_max       476\n",
      "apparent_temperature_min       488\n",
      "apparent_temperature_mean      519\n",
      "daylight_duration              537\n",
      "sunshine_duration              513\n",
      "precipitation_sum              505\n",
      "rain_sum                       512\n",
      "snowfall_sum                   498\n",
      "precipitation_hours            505\n",
      "wind_speed_10m_max             499\n",
      "wind_gusts_10m_max             474\n",
      "wind_direction_10m_dominant    475\n",
      "shortwave_radiation_sum        515\n",
      "et0_fao_evapotranspiration     479\n",
      "city                             0\n",
      "dtype: int64\n"
     ]
    }
   ],
   "execution_count": 80
  },
  {
   "metadata": {
    "ExecuteTime": {
     "end_time": "2025-04-02T10:50:13.052660Z",
     "start_time": "2025-04-02T10:50:12.602820Z"
    }
   },
   "cell_type": "code",
   "source": [
    "# Plot a heat map for missing values\n",
    "sns.heatmap(df_mis.isnull(), cbar=True, cmap='viridis')\n",
    "plt.show()"
   ],
   "id": "a65f6f30a4c9b65e",
   "outputs": [
    {
     "data": {
      "text/plain": [
       "<Figure size 640x480 with 2 Axes>"
      ],
      "image/png": "[encoded data removed]"
     },
     "metadata": {},
     "output_type": "display_data"
    }
   ],
   "execution_count": 81
  },
  {
   "metadata": {
    "ExecuteTime": {
     "end_time": "2025-04-02T10:50:13.068485Z",
     "start_time": "2025-04-02T10:50:13.053137Z"
    }
   },
   "cell_type": "code",
   "source": [
    "# Fill missing values with interpolation\n",
    "# Using the linear method as it is the best fit for weather data\n",
    "df_filled = df_mis[columns].interpolate(method='linear')"
   ],
   "id": "703c6021245556bb",
   "outputs": [],
   "execution_count": 82
  },
  {
   "metadata": {},
   "cell_type": "markdown",
   "source": "",
   "id": "a821f3dbda3ab222"
  },
  {
   "metadata": {
    "ExecuteTime": {
     "end_time": "2025-04-02T10:50:13.071575Z",
     "start_time": "2025-04-02T10:50:13.069063Z"
    }
   },
   "cell_type": "code",
   "source": [
    "# Check if there is still missing values\n",
    "print(df_filled.isna().sum())"
   ],
   "id": "19178164c2b7a937",
   "outputs": [
    {
     "name": "stdout",
     "output_type": "stream",
     "text": [
      "weather_code                   0\n",
      "temperature_2m_max             0\n",
      "temperature_2m_min             0\n",
      "temperature_2m_mean            0\n",
      "apparent_temperature_max       0\n",
      "apparent_temperature_min       0\n",
      "apparent_temperature_mean      0\n",
      "daylight_duration              0\n",
      "sunshine_duration              0\n",
      "precipitation_sum              0\n",
      "rain_sum                       0\n",
      "snowfall_sum                   0\n",
      "precipitation_hours            0\n",
      "wind_speed_10m_max             0\n",
      "wind_gusts_10m_max             0\n",
      "wind_direction_10m_dominant    0\n",
      "shortwave_radiation_sum        0\n",
      "et0_fao_evapotranspiration     0\n",
      "dtype: int64\n"
     ]
    }
   ],
   "execution_count": 83
  },
  {
   "metadata": {},
   "cell_type": "markdown",
   "source": "We where able to succesfully interpolate our missing values ",
   "id": "99d6f0dd33bb4f15"
  },
  {
   "metadata": {},
   "cell_type": "markdown",
   "source": [
    "### Research Question 2\n",
    "##### How does Zurich and Seattle compare regarding weather seasonal attributes?\n",
    "The reason Zurich and Seattle was chosen for comparisson is because they are almost placed on the same latitude, with Zurich at 47.34621810913086°N and Seattle at 47.62741470336914°N. "
   ],
   "id": "5c05358a0f08729c"
  },
  {
   "metadata": {
    "ExecuteTime": {
     "end_time": "2025-04-04T09:42:07.653014Z",
     "start_time": "2025-04-04T09:42:07.563768Z"
    }
   },
   "cell_type": "code",
   "source": [
    "# Create the dataframe\n",
    "df = pd.read_csv(\"Data/clean.csv\")"
   ],
   "id": "f529f08f3cabd900",
   "outputs": [],
   "execution_count": 11
  },
  {
   "metadata": {
    "ExecuteTime": {
     "end_time": "2025-04-04T09:42:08.189440Z",
     "start_time": "2025-04-04T09:42:08.177769Z"
    }
   },
   "cell_type": "code",
   "source": [
    "# Separate Zurich and Seattle data\n",
    "zurich_data = df[df['City'] == 'Zurich'].set_index('date')\n",
    "seattle_data = df[df['City'] == 'Seattle'].set_index('date')"
   ],
   "id": "635a38b798831083",
   "outputs": [],
   "execution_count": 12
  },
  {
   "metadata": {
    "ExecuteTime": {
     "end_time": "2025-04-04T09:42:08.535251Z",
     "start_time": "2025-04-04T09:42:08.527661Z"
    }
   },
   "cell_type": "code",
   "source": [
    "# Merge the dataframes on date\n",
    "merged_df = zurich_data.merge(seattle_data, on='date', suffixes=('_zurich', '_seattle'))"
   ],
   "id": "f524fe8c6bb5aeb",
   "outputs": [],
   "execution_count": 13
  },
  {
   "metadata": {
    "ExecuteTime": {
     "end_time": "2025-04-04T09:42:08.917788Z",
     "start_time": "2025-04-04T09:42:08.913568Z"
    }
   },
   "cell_type": "code",
   "source": "merged_df = merged_df.drop(['City_zurich', 'City_seattle'], axis=1)",
   "id": "58186bed5cc938db",
   "outputs": [],
   "execution_count": 14
  },
  {
   "metadata": {
    "ExecuteTime": {
     "end_time": "2025-04-04T09:48:19.657125Z",
     "start_time": "2025-04-04T09:48:19.647405Z"
    }
   },
   "cell_type": "code",
   "source": [
    "# Ensure that the dataframes index is of type datetime\n",
    "merged_df.index = pd.DatetimeIndex(merged_df.index)"
   ],
   "id": "aed818c379e7bc3d",
   "outputs": [],
   "execution_count": 26
  },
  {
   "metadata": {},
   "cell_type": "code",
   "outputs": [
    {
     "data": {
      "text/plain": [
       "            weather_code_zurich  temperature_2m_max_zurich  \\\n",
       "date                                                         \n",
       "1940-01-01                    1                  -7.330999   \n",
       "1940-01-02                    3                  -1.681000   \n",
       "1940-01-03                    3                   1.219000   \n",
       "1940-01-04                    3                   1.219000   \n",
       "1940-01-05                    1                   2.069000   \n",
       "...                         ...                        ...   \n",
       "2024-12-26                    3                   2.792000   \n",
       "2024-12-27                    3                   4.192000   \n",
       "2024-12-28                    3                   5.892000   \n",
       "2024-12-29                    3                   1.242000   \n",
       "2024-12-30                    3                   4.592000   \n",
       "\n",
       "            temperature_2m_min_zurich  temperature_2m_mean_zurich  \\\n",
       "date                                                                \n",
       "1940-01-01                 -17.230999                  -12.126832   \n",
       "1940-01-02                 -17.781000                  -10.855999   \n",
       "1940-01-03                  -6.631000                   -1.941416   \n",
       "1940-01-04                  -5.681000                   -2.293500   \n",
       "1940-01-05                  -7.431000                   -3.647667   \n",
       "...                               ...                         ...   \n",
       "2024-12-26                  -3.608000                   -1.078834   \n",
       "2024-12-27                  -2.758000                   -0.087167   \n",
       "2024-12-28                  -2.158000                    0.335750   \n",
       "2024-12-29                  -2.808000                   -1.497583   \n",
       "2024-12-30                  -3.308000                   -0.766333   \n",
       "\n",
       "            apparent_temperature_max_zurich  apparent_temperature_min_zurich  \\\n",
       "date                                                                           \n",
       "1940-01-01                       -12.075075                       -21.555338   \n",
       "1940-01-02                        -5.699105                       -21.838583   \n",
       "1940-01-03                        -2.445471                       -10.734505   \n",
       "1940-01-04                        -2.262167                        -9.751736   \n",
       "1940-01-05                        -0.949804                       -11.529045   \n",
       "...                                     ...                              ...   \n",
       "2024-12-26                         0.191192                        -6.538066   \n",
       "2024-12-27                         1.910564                        -5.631415   \n",
       "2024-12-28                         3.480993                        -4.800150   \n",
       "2024-12-29                        -1.164811                        -5.412772   \n",
       "2024-12-30                         2.277324                        -6.218286   \n",
       "\n",
       "            apparent_temperature_mean_zurich  daylight_duration_zurich  \\\n",
       "date                                                                     \n",
       "1940-01-01                        -17.146952                 30807.562   \n",
       "1940-01-02                        -14.922493                 30869.477   \n",
       "1940-01-03                         -5.631271                 30936.000   \n",
       "1940-01-04                         -5.986135                 31007.033   \n",
       "1940-01-05                         -7.323355                 31082.492   \n",
       "...                                      ...                       ...   \n",
       "2024-12-26                         -3.790128                 30557.120   \n",
       "2024-12-27                         -2.549849                 30592.547   \n",
       "2024-12-28                         -2.048512                 30632.986   \n",
       "2024-12-29                         -4.186070                 30678.371   \n",
       "2024-12-30                         -3.321710                 30728.615   \n",
       "\n",
       "            sunshine_duration_zurich  precipitation_sum_zurich  ...  \\\n",
       "date                                                            ...   \n",
       "1940-01-01                 25664.049                       0.0  ...   \n",
       "1940-01-02                 25445.750                       0.0  ...   \n",
       "1940-01-03                  6295.623                       0.0  ...   \n",
       "1940-01-04                 25405.090                       0.0  ...   \n",
       "1940-01-05                 25836.154                       0.0  ...   \n",
       "...                              ...                       ...  ...   \n",
       "2024-12-26                 25385.870                       0.0  ...   \n",
       "2024-12-27                 25487.754                       0.0  ...   \n",
       "2024-12-28                 25678.137                       0.0  ...   \n",
       "2024-12-29                 18962.906                       0.0  ...   \n",
       "2024-12-30                 25461.200                       0.0  ...   \n",
       "\n",
       "            precipitation_sum_seattle  rain_sum_seattle  snowfall_sum_seattle  \\\n",
       "date                                                                            \n",
       "1940-01-01                        0.0               0.0                  0.00   \n",
       "1940-01-02                        0.0               0.0                  0.00   \n",
       "1940-01-03                        0.0               0.0                  0.00   \n",
       "1940-01-04                        0.0               0.0                  0.00   \n",
       "1940-01-05                        0.0               0.0                  0.00   \n",
       "...                               ...               ...                   ...   \n",
       "2024-12-26                        0.0               0.0                  0.00   \n",
       "2024-12-27                        0.0               0.0                  0.00   \n",
       "2024-12-28                        0.0               0.0                  0.00   \n",
       "2024-12-29                        0.5               0.0                  0.35   \n",
       "2024-12-30                        0.2               0.0                  0.14   \n",
       "\n",
       "            precipitation_hours_seattle  wind_speed_10m_max_seattle  \\\n",
       "date                                                                  \n",
       "1940-01-01                          0.0                   24.967497   \n",
       "1940-01-02                          0.0                   19.652176   \n",
       "1940-01-03                          0.0                   20.089160   \n",
       "1940-01-04                          0.0                   18.118410   \n",
       "1940-01-05                          0.0                   14.003028   \n",
       "...                                 ...                         ...   \n",
       "2024-12-26                          0.0                   20.240198   \n",
       "2024-12-27                          0.0                   19.346441   \n",
       "2024-12-28                          0.0                   10.055864   \n",
       "2024-12-29                          5.0                   15.236338   \n",
       "2024-12-30                          2.0                   14.905261   \n",
       "\n",
       "            wind_gusts_10m_max_seattle  wind_direction_10m_dominant_seattle  \\\n",
       "date                                                                          \n",
       "1940-01-01                   57.600000                           298.190000   \n",
       "1940-01-02                   47.880000                           300.141200   \n",
       "1940-01-03                   48.960000                           301.733430   \n",
       "1940-01-04                   47.160000                           319.123960   \n",
       "1940-01-05                   36.000000                           312.266900   \n",
       "...                                ...                                  ...   \n",
       "2024-12-26                   37.800000                           312.606870   \n",
       "2024-12-27                   36.360000                           309.977200   \n",
       "2024-12-28                   19.440000                            20.208635   \n",
       "2024-12-29                   28.800000                           312.739470   \n",
       "2024-12-30                   27.359999                           312.620060   \n",
       "\n",
       "            shortwave_radiation_sum_seattle  \\\n",
       "date                                          \n",
       "1940-01-01                             6.18   \n",
       "1940-01-02                             6.48   \n",
       "1940-01-03                             6.49   \n",
       "1940-01-04                             6.44   \n",
       "1940-01-05                             6.07   \n",
       "...                                     ...   \n",
       "2024-12-26                             5.91   \n",
       "2024-12-27                             5.98   \n",
       "2024-12-28                             4.82   \n",
       "2024-12-29                             3.30   \n",
       "2024-12-30                             4.34   \n",
       "\n",
       "            et0_fao_evapotranspiration_seattle  season  \n",
       "date                                                    \n",
       "1940-01-01                            0.432415  Winter  \n",
       "1940-01-02                            0.313590  Winter  \n",
       "1940-01-03                            0.380079  Winter  \n",
       "1940-01-04                            0.283181  Winter  \n",
       "1940-01-05                            0.212972  Winter  \n",
       "...                                        ...     ...  \n",
       "2024-12-26                            0.532143  Winter  \n",
       "2024-12-27                            0.423986  Winter  \n",
       "2024-12-28                            0.238791  Winter  \n",
       "2024-12-29                            0.351623  Winter  \n",
       "2024-12-30                            0.312770  Winter  \n",
       "\n",
       "[31046 rows x 37 columns]"
      ],
      "text/html": [
       "<div>\n",
       "<style scoped>\n",
       "    .dataframe tbody tr th:only-of-type {\n",
       "        vertical-align: middle;\n",
       "    }\n",
       "\n",
       "    .dataframe tbody tr th {\n",
       "        vertical-align: top;\n",
       "    }\n",
       "\n",
       "    .dataframe thead th {\n",
       "        text-align: right;\n",
       "    }\n",
       "</style>\n",
       "<table border=\"1\" class=\"dataframe\">\n",
       "  <thead>\n",
       "    <tr style=\"text-align: right;\">\n",
       "      <th></th>\n",
       "      <th>weather_code_zurich</th>\n",
       "      <th>temperature_2m_max_zurich</th>\n",
       "      <th>temperature_2m_min_zurich</th>\n",
       "      <th>temperature_2m_mean_zurich</th>\n",
       "      <th>apparent_temperature_max_zurich</th>\n",
       "      <th>apparent_temperature_min_zurich</th>\n",
       "      <th>apparent_temperature_mean_zurich</th>\n",
       "      <th>daylight_duration_zurich</th>\n",
       "      <th>sunshine_duration_zurich</th>\n",
       "      <th>precipitation_sum_zurich</th>\n",
       "      <th>...</th>\n",
       "      <th>precipitation_sum_seattle</th>\n",
       "      <th>rain_sum_seattle</th>\n",
       "      <th>snowfall_sum_seattle</th>\n",
       "      <th>precipitation_hours_seattle</th>\n",
       "      <th>wind_speed_10m_max_seattle</th>\n",
       "      <th>wind_gusts_10m_max_seattle</th>\n",
       "      <th>wind_direction_10m_dominant_seattle</th>\n",
       "      <th>shortwave_radiation_sum_seattle</th>\n",
       "      <th>et0_fao_evapotranspiration_seattle</th>\n",
       "      <th>season</th>\n",
       "    </tr>\n",
       "    <tr>\n",
       "      <th>date</th>\n",
       "      <th></th>\n",
       "      <th></th>\n",
       "      <th></th>\n",
       "      <th></th>\n",
       "      <th></th>\n",
       "      <th></th>\n",
       "      <th></th>\n",
       "      <th></th>\n",
       "      <th></th>\n",
       "      <th></th>\n",
       "      <th></th>\n",
       "      <th></th>\n",
       "      <th></th>\n",
       "      <th></th>\n",
       "      <th></th>\n",
       "      <th></th>\n",
       "      <th></th>\n",
       "      <th></th>\n",
       "      <th></th>\n",
       "      <th></th>\n",
       "      <th></th>\n",
       "    </tr>\n",
       "  </thead>\n",
       "  <tbody>\n",
       "    <tr>\n",
       "      <th>1940-01-01</th>\n",
       "      <td>1</td>\n",
       "      <td>-7.330999</td>\n",
       "      <td>-17.230999</td>\n",
       "      <td>-12.126832</td>\n",
       "      <td>-12.075075</td>\n",
       "      <td>-21.555338</td>\n",
       "      <td>-17.146952</td>\n",
       "      <td>30807.562</td>\n",
       "      <td>25664.049</td>\n",
       "      <td>0.0</td>\n",
       "      <td>...</td>\n",
       "      <td>0.0</td>\n",
       "      <td>0.0</td>\n",
       "      <td>0.00</td>\n",
       "      <td>0.0</td>\n",
       "      <td>24.967497</td>\n",
       "      <td>57.600000</td>\n",
       "      <td>298.190000</td>\n",
       "      <td>6.18</td>\n",
       "      <td>0.432415</td>\n",
       "      <td>Winter</td>\n",
       "    </tr>\n",
       "    <tr>\n",
       "      <th>1940-01-02</th>\n",
       "      <td>3</td>\n",
       "      <td>-1.681000</td>\n",
       "      <td>-17.781000</td>\n",
       "      <td>-10.855999</td>\n",
       "      <td>-5.699105</td>\n",
       "      <td>-21.838583</td>\n",
       "      <td>-14.922493</td>\n",
       "      <td>30869.477</td>\n",
       "      <td>25445.750</td>\n",
       "      <td>0.0</td>\n",
       "      <td>...</td>\n",
       "      <td>0.0</td>\n",
       "      <td>0.0</td>\n",
       "      <td>0.00</td>\n",
       "      <td>0.0</td>\n",
       "      <td>19.652176</td>\n",
       "      <td>47.880000</td>\n",
       "      <td>300.141200</td>\n",
       "      <td>6.48</td>\n",
       "      <td>0.313590</td>\n",
       "      <td>Winter</td>\n",
       "    </tr>\n",
       "    <tr>\n",
       "      <th>1940-01-03</th>\n",
       "      <td>3</td>\n",
       "      <td>1.219000</td>\n",
       "      <td>-6.631000</td>\n",
       "      <td>-1.941416</td>\n",
       "      <td>-2.445471</td>\n",
       "      <td>-10.734505</td>\n",
       "      <td>-5.631271</td>\n",
       "      <td>30936.000</td>\n",
       "      <td>6295.623</td>\n",
       "      <td>0.0</td>\n",
       "      <td>...</td>\n",
       "      <td>0.0</td>\n",
       "      <td>0.0</td>\n",
       "      <td>0.00</td>\n",
       "      <td>0.0</td>\n",
       "      <td>20.089160</td>\n",
       "      <td>48.960000</td>\n",
       "      <td>301.733430</td>\n",
       "      <td>6.49</td>\n",
       "      <td>0.380079</td>\n",
       "      <td>Winter</td>\n",
       "    </tr>\n",
       "    <tr>\n",
       "      <th>1940-01-04</th>\n",
       "      <td>3</td>\n",
       "      <td>1.219000</td>\n",
       "      <td>-5.681000</td>\n",
       "      <td>-2.293500</td>\n",
       "      <td>-2.262167</td>\n",
       "      <td>-9.751736</td>\n",
       "      <td>-5.986135</td>\n",
       "      <td>31007.033</td>\n",
       "      <td>25405.090</td>\n",
       "      <td>0.0</td>\n",
       "      <td>...</td>\n",
       "      <td>0.0</td>\n",
       "      <td>0.0</td>\n",
       "      <td>0.00</td>\n",
       "      <td>0.0</td>\n",
       "      <td>18.118410</td>\n",
       "      <td>47.160000</td>\n",
       "      <td>319.123960</td>\n",
       "      <td>6.44</td>\n",
       "      <td>0.283181</td>\n",
       "      <td>Winter</td>\n",
       "    </tr>\n",
       "    <tr>\n",
       "      <th>1940-01-05</th>\n",
       "      <td>1</td>\n",
       "      <td>2.069000</td>\n",
       "      <td>-7.431000</td>\n",
       "      <td>-3.647667</td>\n",
       "      <td>-0.949804</td>\n",
       "      <td>-11.529045</td>\n",
       "      <td>-7.323355</td>\n",
       "      <td>31082.492</td>\n",
       "      <td>25836.154</td>\n",
       "      <td>0.0</td>\n",
       "      <td>...</td>\n",
       "      <td>0.0</td>\n",
       "      <td>0.0</td>\n",
       "      <td>0.00</td>\n",
       "      <td>0.0</td>\n",
       "      <td>14.003028</td>\n",
       "      <td>36.000000</td>\n",
       "      <td>312.266900</td>\n",
       "      <td>6.07</td>\n",
       "      <td>0.212972</td>\n",
       "      <td>Winter</td>\n",
       "    </tr>\n",
       "    <tr>\n",
       "      <th>...</th>\n",
       "      <td>...</td>\n",
       "      <td>...</td>\n",
       "      <td>...</td>\n",
       "      <td>...</td>\n",
       "      <td>...</td>\n",
       "      <td>...</td>\n",
       "      <td>...</td>\n",
       "      <td>...</td>\n",
       "      <td>...</td>\n",
       "      <td>...</td>\n",
       "      <td>...</td>\n",
       "      <td>...</td>\n",
       "      <td>...</td>\n",
       "      <td>...</td>\n",
       "      <td>...</td>\n",
       "      <td>...</td>\n",
       "      <td>...</td>\n",
       "      <td>...</td>\n",
       "      <td>...</td>\n",
       "      <td>...</td>\n",
       "      <td>...</td>\n",
       "    </tr>\n",
       "    <tr>\n",
       "      <th>2024-12-26</th>\n",
       "      <td>3</td>\n",
       "      <td>2.792000</td>\n",
       "      <td>-3.608000</td>\n",
       "      <td>-1.078834</td>\n",
       "      <td>0.191192</td>\n",
       "      <td>-6.538066</td>\n",
       "      <td>-3.790128</td>\n",
       "      <td>30557.120</td>\n",
       "      <td>25385.870</td>\n",
       "      <td>0.0</td>\n",
       "      <td>...</td>\n",
       "      <td>0.0</td>\n",
       "      <td>0.0</td>\n",
       "      <td>0.00</td>\n",
       "      <td>0.0</td>\n",
       "      <td>20.240198</td>\n",
       "      <td>37.800000</td>\n",
       "      <td>312.606870</td>\n",
       "      <td>5.91</td>\n",
       "      <td>0.532143</td>\n",
       "      <td>Winter</td>\n",
       "    </tr>\n",
       "    <tr>\n",
       "      <th>2024-12-27</th>\n",
       "      <td>3</td>\n",
       "      <td>4.192000</td>\n",
       "      <td>-2.758000</td>\n",
       "      <td>-0.087167</td>\n",
       "      <td>1.910564</td>\n",
       "      <td>-5.631415</td>\n",
       "      <td>-2.549849</td>\n",
       "      <td>30592.547</td>\n",
       "      <td>25487.754</td>\n",
       "      <td>0.0</td>\n",
       "      <td>...</td>\n",
       "      <td>0.0</td>\n",
       "      <td>0.0</td>\n",
       "      <td>0.00</td>\n",
       "      <td>0.0</td>\n",
       "      <td>19.346441</td>\n",
       "      <td>36.360000</td>\n",
       "      <td>309.977200</td>\n",
       "      <td>5.98</td>\n",
       "      <td>0.423986</td>\n",
       "      <td>Winter</td>\n",
       "    </tr>\n",
       "    <tr>\n",
       "      <th>2024-12-28</th>\n",
       "      <td>3</td>\n",
       "      <td>5.892000</td>\n",
       "      <td>-2.158000</td>\n",
       "      <td>0.335750</td>\n",
       "      <td>3.480993</td>\n",
       "      <td>-4.800150</td>\n",
       "      <td>-2.048512</td>\n",
       "      <td>30632.986</td>\n",
       "      <td>25678.137</td>\n",
       "      <td>0.0</td>\n",
       "      <td>...</td>\n",
       "      <td>0.0</td>\n",
       "      <td>0.0</td>\n",
       "      <td>0.00</td>\n",
       "      <td>0.0</td>\n",
       "      <td>10.055864</td>\n",
       "      <td>19.440000</td>\n",
       "      <td>20.208635</td>\n",
       "      <td>4.82</td>\n",
       "      <td>0.238791</td>\n",
       "      <td>Winter</td>\n",
       "    </tr>\n",
       "    <tr>\n",
       "      <th>2024-12-29</th>\n",
       "      <td>3</td>\n",
       "      <td>1.242000</td>\n",
       "      <td>-2.808000</td>\n",
       "      <td>-1.497583</td>\n",
       "      <td>-1.164811</td>\n",
       "      <td>-5.412772</td>\n",
       "      <td>-4.186070</td>\n",
       "      <td>30678.371</td>\n",
       "      <td>18962.906</td>\n",
       "      <td>0.0</td>\n",
       "      <td>...</td>\n",
       "      <td>0.5</td>\n",
       "      <td>0.0</td>\n",
       "      <td>0.35</td>\n",
       "      <td>5.0</td>\n",
       "      <td>15.236338</td>\n",
       "      <td>28.800000</td>\n",
       "      <td>312.739470</td>\n",
       "      <td>3.30</td>\n",
       "      <td>0.351623</td>\n",
       "      <td>Winter</td>\n",
       "    </tr>\n",
       "    <tr>\n",
       "      <th>2024-12-30</th>\n",
       "      <td>3</td>\n",
       "      <td>4.592000</td>\n",
       "      <td>-3.308000</td>\n",
       "      <td>-0.766333</td>\n",
       "      <td>2.277324</td>\n",
       "      <td>-6.218286</td>\n",
       "      <td>-3.321710</td>\n",
       "      <td>30728.615</td>\n",
       "      <td>25461.200</td>\n",
       "      <td>0.0</td>\n",
       "      <td>...</td>\n",
       "      <td>0.2</td>\n",
       "      <td>0.0</td>\n",
       "      <td>0.14</td>\n",
       "      <td>2.0</td>\n",
       "      <td>14.905261</td>\n",
       "      <td>27.359999</td>\n",
       "      <td>312.620060</td>\n",
       "      <td>4.34</td>\n",
       "      <td>0.312770</td>\n",
       "      <td>Winter</td>\n",
       "    </tr>\n",
       "  </tbody>\n",
       "</table>\n",
       "<p>31046 rows × 37 columns</p>\n",
       "</div>"
      ]
     },
     "execution_count": 28,
     "metadata": {},
     "output_type": "execute_result"
    }
   ],
   "execution_count": 28,
   "source": "merged_df",
   "id": "7bef5c4b4efb2a19"
  },
  {
   "metadata": {
    "ExecuteTime": {
     "end_time": "2025-04-04T11:29:11.292349Z",
     "start_time": "2025-04-04T11:29:11.174772Z"
    }
   },
   "cell_type": "code",
   "source": [
    "# Count frequency of weather codes for each city\n",
    "zurich_counts = merged_df['weather_code_zurich'].value_counts().sort_index()\n",
    "seattle_counts = merged_df['weather_code_seattle'].value_counts().sort_index()\n",
    "\n",
    "# Create comparison dataframe\n",
    "comparison_table = pd.DataFrame({'Zurich': zurich_counts, 'Seattle': seattle_counts})\n",
    "\n",
    "# Convert to long format for seaborn plotting\n",
    "df_long = comparison_table.reset_index().melt(\n",
    "    id_vars='index',\n",
    "    value_vars=['Zurich', 'Seattle'],\n",
    "    var_name='City',\n",
    "    value_name='Frequency'\n",
    ")\n",
    "\n",
    "# Set up plot and figure size\n",
    "plt.figure(figsize=(12, 6))\n",
    "ax = sns.barplot(x='index', y='Frequency', hue='City', data=df_long)\n",
    "\n",
    "# Add labels and plot\n",
    "plt.title('Weather Code Frequency: Zurich vs. Seattle', fontsize=14)\n",
    "plt.xlabel('Weather Code', fontsize=12)\n",
    "plt.ylabel('Frequency', fontsize=12)\n",
    "plt.xticks(rotation=0)\n",
    "plt.legend(title='')\n",
    "plt.tight_layout()\n",
    "plt.show()"
   ],
   "id": "9f2cb9558d19135d",
   "outputs": [
    {
     "data": {
      "text/plain": [
       "<Figure size 1200x600 with 1 Axes>"
      ],
      "image/png": "[encoded data removed]"
     },
     "metadata": {},
     "output_type": "display_data"
    }
   ],
   "execution_count": 74
  },
  {
   "metadata": {},
   "cell_type": "markdown",
   "source": [
    "The weather codes is called OWM codes\n",
    "- 0: Cloud development not observed or not observable\n",
    "- 1: Clouds generally dissolving or becoming less developed\n",
    "- 2: State of sky on the whole unchanged\n",
    "- 3: Clouds generally forming or developing\n",
    "- 51: Drizzle, not freezing, continuous, slight at time of observation\n",
    "- 53: Drizzle, not freezing, continuous, moderate at time of observation\n",
    "- 55: Drizzle, not freezing, continuous, heavy at time of observation\n",
    "- 61: Rain, not freezing, continuous, slight at time of observation\n",
    "- 63: Rain, not freezing, continuous, moderate at time of observation\n",
    "- 65: Rain, not freezing, continuous, heavy at time of observation\n",
    "- 71: Continuous fall of snowflakes, slight at time of observation\n",
    "- 73: Continuous fall of snowflakes, moderate at time of observation\n",
    "- 75: Continuous fall of snowflakes, heavy at time of observation  \n",
    "[Source](https://www.nodc.noaa.gov/archive/arc0021/0002199/1.1/data/0-data/HTML/WMO-CODE/WMO4677.HTM)\n",
    "\n",
    "By looking at the weather codes it is clear that the most common weather state for both cities is cloudy days (Code 3) "
   ],
   "id": "4800edeea9ba34b0"
  },
  {
   "metadata": {
    "ExecuteTime": {
     "end_time": "2025-04-04T10:17:32.048800Z",
     "start_time": "2025-04-04T10:17:32.038467Z"
    }
   },
   "cell_type": "code",
   "source": [
    "# Create a function to map months to seasons\n",
    "def get_seasons(month):\n",
    "\tif month in [12, 1, 2]:\n",
    "\t\treturn 'Winter'\n",
    "\telif month in [3, 4, 5]:\n",
    "\t\treturn 'Spring'\n",
    "\telif month in [6, 7, 8]:\n",
    "\t\treturn 'Summer'\n",
    "\telif month in [9, 10, 11]:\n",
    "\t\treturn 'Fall'\n",
    "\telse:\n",
    "\t\tprint(\"There was an error\")\n",
    "\t\t\n",
    "# Create a seasonal column for the dataframe\n",
    "merged_df['season'] = merged_df.index.month.map(get_seasons)\n",
    "\n",
    "# Calculate mean values for each numeric column by season\n",
    "seasons = merged_df.groupby('season').mean()\n",
    "\n",
    "# Drop the weather code columns\n",
    "seasons = seasons.drop(['weather_code_zurich', 'weather_code_seattle'], axis=1)"
   ],
   "id": "189b022f71a88ff0",
   "outputs": [],
   "execution_count": 31
  },
  {
   "metadata": {
    "ExecuteTime": {
     "end_time": "2025-04-04T11:31:58.908879Z",
     "start_time": "2025-04-04T11:31:58.903554Z"
    }
   },
   "cell_type": "code",
   "source": "seasons",
   "id": "be3db94305d7f3d",
   "outputs": [
    {
     "data": {
      "text/plain": [
       "        temperature_2m_max_zurich  temperature_2m_min_zurich  \\\n",
       "season                                                         \n",
       "Fall                    13.866647                   6.718392   \n",
       "Spring                  13.691461                   4.352362   \n",
       "Summer                  22.166569                  13.533731   \n",
       "Winter                   4.475718                  -2.023571   \n",
       "\n",
       "        temperature_2m_mean_zurich  apparent_temperature_max_zurich  \\\n",
       "season                                                                \n",
       "Fall                     10.041713                        12.413317   \n",
       "Spring                    8.961430                        11.748378   \n",
       "Summer                   17.859833                        22.729382   \n",
       "Winter                    0.956547                         1.156370   \n",
       "\n",
       "        apparent_temperature_min_zurich  apparent_temperature_mean_zurich  \\\n",
       "season                                                                      \n",
       "Fall                           4.873069                          8.487253   \n",
       "Spring                         1.893302                          6.777558   \n",
       "Summer                        13.399822                         18.092359   \n",
       "Winter                        -5.585878                         -2.447247   \n",
       "\n",
       "        daylight_duration_zurich  sunshine_duration_zurich  \\\n",
       "season                                                       \n",
       "Fall                39157.546569              25141.123002   \n",
       "Spring              48960.398944              32955.517198   \n",
       "Summer              54586.173270              39637.934123   \n",
       "Winter              33304.186112              18823.904892   \n",
       "\n",
       "        precipitation_sum_zurich  rain_sum_zurich  ...  \\\n",
       "season                                             ...   \n",
       "Fall                    2.724034         2.554777  ...   \n",
       "Spring                  3.072404         2.827634  ...   \n",
       "Summer                  3.674501         3.674348  ...   \n",
       "Winter                  2.615578         1.759640  ...   \n",
       "\n",
       "        sunshine_duration_seattle  precipitation_sum_seattle  \\\n",
       "season                                                         \n",
       "Fall                 29202.400685                   1.041797   \n",
       "Spring               36896.422328                   1.013363   \n",
       "Summer               35828.293094                   4.373990   \n",
       "Winter               26692.290618                   0.117768   \n",
       "\n",
       "        rain_sum_seattle  snowfall_sum_seattle  precipitation_hours_seattle  \\\n",
       "season                                                                        \n",
       "Fall            0.844331              0.144281                     2.060763   \n",
       "Spring          0.708235              0.221753                     2.268542   \n",
       "Summer          4.373990              0.000000                     5.340409   \n",
       "Winter          0.000235              0.097951                     0.720506   \n",
       "\n",
       "        wind_speed_10m_max_seattle  wind_gusts_10m_max_seattle  \\\n",
       "season                                                           \n",
       "Fall                     15.112780                   36.525408   \n",
       "Spring                   17.305080                   42.661012   \n",
       "Summer                   13.040090                   33.402751   \n",
       "Winter                   14.940206                   34.927696   \n",
       "\n",
       "        wind_direction_10m_dominant_seattle  shortwave_radiation_sum_seattle  \\\n",
       "season                                                                         \n",
       "Fall                             257.401882                        10.707648   \n",
       "Spring                           251.853706                        18.620425   \n",
       "Summer                           201.058059                        18.432854   \n",
       "Winter                           284.306371                         7.745282   \n",
       "\n",
       "        et0_fao_evapotranspiration_seattle  \n",
       "season                                      \n",
       "Fall                              1.626387  \n",
       "Spring                            2.840311  \n",
       "Summer                            3.600769  \n",
       "Winter                            0.503234  \n",
       "\n",
       "[4 rows x 34 columns]"
      ],
      "text/html": [
       "<div>\n",
       "<style scoped>\n",
       "    .dataframe tbody tr th:only-of-type {\n",
       "        vertical-align: middle;\n",
       "    }\n",
       "\n",
       "    .dataframe tbody tr th {\n",
       "        vertical-align: top;\n",
       "    }\n",
       "\n",
       "    .dataframe thead th {\n",
       "        text-align: right;\n",
       "    }\n",
       "</style>\n",
       "<table border=\"1\" class=\"dataframe\">\n",
       "  <thead>\n",
       "    <tr style=\"text-align: right;\">\n",
       "      <th></th>\n",
       "      <th>temperature_2m_max_zurich</th>\n",
       "      <th>temperature_2m_min_zurich</th>\n",
       "      <th>temperature_2m_mean_zurich</th>\n",
       "      <th>apparent_temperature_max_zurich</th>\n",
       "      <th>apparent_temperature_min_zurich</th>\n",
       "      <th>apparent_temperature_mean_zurich</th>\n",
       "      <th>daylight_duration_zurich</th>\n",
       "      <th>sunshine_duration_zurich</th>\n",
       "      <th>precipitation_sum_zurich</th>\n",
       "      <th>rain_sum_zurich</th>\n",
       "      <th>...</th>\n",
       "      <th>sunshine_duration_seattle</th>\n",
       "      <th>precipitation_sum_seattle</th>\n",
       "      <th>rain_sum_seattle</th>\n",
       "      <th>snowfall_sum_seattle</th>\n",
       "      <th>precipitation_hours_seattle</th>\n",
       "      <th>wind_speed_10m_max_seattle</th>\n",
       "      <th>wind_gusts_10m_max_seattle</th>\n",
       "      <th>wind_direction_10m_dominant_seattle</th>\n",
       "      <th>shortwave_radiation_sum_seattle</th>\n",
       "      <th>et0_fao_evapotranspiration_seattle</th>\n",
       "    </tr>\n",
       "    <tr>\n",
       "      <th>season</th>\n",
       "      <th></th>\n",
       "      <th></th>\n",
       "      <th></th>\n",
       "      <th></th>\n",
       "      <th></th>\n",
       "      <th></th>\n",
       "      <th></th>\n",
       "      <th></th>\n",
       "      <th></th>\n",
       "      <th></th>\n",
       "      <th></th>\n",
       "      <th></th>\n",
       "      <th></th>\n",
       "      <th></th>\n",
       "      <th></th>\n",
       "      <th></th>\n",
       "      <th></th>\n",
       "      <th></th>\n",
       "      <th></th>\n",
       "      <th></th>\n",
       "      <th></th>\n",
       "    </tr>\n",
       "  </thead>\n",
       "  <tbody>\n",
       "    <tr>\n",
       "      <th>Fall</th>\n",
       "      <td>13.866647</td>\n",
       "      <td>6.718392</td>\n",
       "      <td>10.041713</td>\n",
       "      <td>12.413317</td>\n",
       "      <td>4.873069</td>\n",
       "      <td>8.487253</td>\n",
       "      <td>39157.546569</td>\n",
       "      <td>25141.123002</td>\n",
       "      <td>2.724034</td>\n",
       "      <td>2.554777</td>\n",
       "      <td>...</td>\n",
       "      <td>29202.400685</td>\n",
       "      <td>1.041797</td>\n",
       "      <td>0.844331</td>\n",
       "      <td>0.144281</td>\n",
       "      <td>2.060763</td>\n",
       "      <td>15.112780</td>\n",
       "      <td>36.525408</td>\n",
       "      <td>257.401882</td>\n",
       "      <td>10.707648</td>\n",
       "      <td>1.626387</td>\n",
       "    </tr>\n",
       "    <tr>\n",
       "      <th>Spring</th>\n",
       "      <td>13.691461</td>\n",
       "      <td>4.352362</td>\n",
       "      <td>8.961430</td>\n",
       "      <td>11.748378</td>\n",
       "      <td>1.893302</td>\n",
       "      <td>6.777558</td>\n",
       "      <td>48960.398944</td>\n",
       "      <td>32955.517198</td>\n",
       "      <td>3.072404</td>\n",
       "      <td>2.827634</td>\n",
       "      <td>...</td>\n",
       "      <td>36896.422328</td>\n",
       "      <td>1.013363</td>\n",
       "      <td>0.708235</td>\n",
       "      <td>0.221753</td>\n",
       "      <td>2.268542</td>\n",
       "      <td>17.305080</td>\n",
       "      <td>42.661012</td>\n",
       "      <td>251.853706</td>\n",
       "      <td>18.620425</td>\n",
       "      <td>2.840311</td>\n",
       "    </tr>\n",
       "    <tr>\n",
       "      <th>Summer</th>\n",
       "      <td>22.166569</td>\n",
       "      <td>13.533731</td>\n",
       "      <td>17.859833</td>\n",
       "      <td>22.729382</td>\n",
       "      <td>13.399822</td>\n",
       "      <td>18.092359</td>\n",
       "      <td>54586.173270</td>\n",
       "      <td>39637.934123</td>\n",
       "      <td>3.674501</td>\n",
       "      <td>3.674348</td>\n",
       "      <td>...</td>\n",
       "      <td>35828.293094</td>\n",
       "      <td>4.373990</td>\n",
       "      <td>4.373990</td>\n",
       "      <td>0.000000</td>\n",
       "      <td>5.340409</td>\n",
       "      <td>13.040090</td>\n",
       "      <td>33.402751</td>\n",
       "      <td>201.058059</td>\n",
       "      <td>18.432854</td>\n",
       "      <td>3.600769</td>\n",
       "    </tr>\n",
       "    <tr>\n",
       "      <th>Winter</th>\n",
       "      <td>4.475718</td>\n",
       "      <td>-2.023571</td>\n",
       "      <td>0.956547</td>\n",
       "      <td>1.156370</td>\n",
       "      <td>-5.585878</td>\n",
       "      <td>-2.447247</td>\n",
       "      <td>33304.186112</td>\n",
       "      <td>18823.904892</td>\n",
       "      <td>2.615578</td>\n",
       "      <td>1.759640</td>\n",
       "      <td>...</td>\n",
       "      <td>26692.290618</td>\n",
       "      <td>0.117768</td>\n",
       "      <td>0.000235</td>\n",
       "      <td>0.097951</td>\n",
       "      <td>0.720506</td>\n",
       "      <td>14.940206</td>\n",
       "      <td>34.927696</td>\n",
       "      <td>284.306371</td>\n",
       "      <td>7.745282</td>\n",
       "      <td>0.503234</td>\n",
       "    </tr>\n",
       "  </tbody>\n",
       "</table>\n",
       "<p>4 rows × 34 columns</p>\n",
       "</div>"
      ]
     },
     "execution_count": 76,
     "metadata": {},
     "output_type": "execute_result"
    }
   ],
   "execution_count": 76
  },
  {
   "metadata": {},
   "cell_type": "code",
   "outputs": [],
   "execution_count": null,
   "source": "",
   "id": "e5396daf91127d7d"
  },
  {
   "metadata": {},
   "cell_type": "code",
   "outputs": [
    {
     "data": {
      "text/plain": [
       "<Figure size 1200x600 with 1 Axes>"
      ],
      "image/png": "[encoded data removed]"
     },
     "metadata": {},
     "output_type": "display_data"
    }
   ],
   "execution_count": 79,
   "source": [
    "# Restructure the DataFrame for better plotting\n",
    "seasons_reset = seasons.reset_index()\n",
    "seasons_temp = pd.melt(seasons_reset, id_vars='season', \n",
    "                       value_vars=['temperature_2m_mean_zurich', 'temperature_2m_mean_seattle'],\n",
    "                       var_name='City', value_name='Mean Temperature')\n",
    "\n",
    "# Extract city names\n",
    "seasons_temp['City'] = seasons_temp['City'].str.replace('temperature_2m_mean_', '', regex=False)\n",
    "\n",
    "#Improved plotting with better aesthetics\n",
    "plt.figure(figsize=(12, 6))\n",
    "sns.barplot(x='season', y='Mean Temperature', hue='City', data=seasons_temp)\n",
    "plt.title('Mean Temperature Comparison: Zurich vs. Seattle by Season')\n",
    "plt.xlabel('Season')\n",
    "plt.ylabel('Degrees °C')\n",
    "plt.xticks(rotation=0) #Keep x-axis labels horizontal\n",
    "plt.legend(title='City', loc='upper left') #Move legend\n",
    "sns.despine(left=True, bottom=True) #Remove top and right spines for cleaner look\n",
    "plt.tight_layout()\n",
    "plt.show()"
   ],
   "id": "da31eebadd515f27"
  },
  {
   "metadata": {},
   "cell_type": "markdown",
   "source": "Seattle has a slightly higher average temperatures during summer than Zurich. During the fall and spring Seattle has a lower average temperatures than Zurich and in winter Seattle has significantly lower average temperatures than Zurich. ",
   "id": "91a798f018bda3c0"
  },
  {
   "metadata": {},
   "cell_type": "code",
   "outputs": [
    {
     "data": {
      "text/plain": [
       "<Figure size 1200x600 with 1 Axes>"
      ],
      "image/png": "[encoded data removed]"
     },
     "metadata": {},
     "output_type": "display_data"
    }
   ],
   "execution_count": 78,
   "source": [
    "# Restructure the DataFrame for better plotting\n",
    "seasons_reset = seasons.reset_index()\n",
    "seasons_tempA = pd.melt(seasons_reset, id_vars='season', \n",
    "                       value_vars=['apparent_temperature_mean_zurich', 'apparent_temperature_mean_seattle'],\n",
    "                       var_name='City', value_name='Mean Temperature')\n",
    "\n",
    "# Extract city names\n",
    "seasons_tempA['City'] = seasons_tempA['City'].str.replace('apparent_temperature_mean_', '', regex=False)\n",
    "\n",
    "#Improved plotting with better aesthetics\n",
    "plt.figure(figsize=(12, 6))\n",
    "sns.barplot(x='season', y='Mean Temperature', hue='City', data=seasons_tempA)\n",
    "plt.title('Apparent Temperature Comparison: Zurich vs. Seattle by Season')\n",
    "plt.xlabel('Season')\n",
    "plt.ylabel('Degrees °C')\n",
    "plt.xticks(rotation=0) #Keep x-axis labels horizontal\n",
    "plt.legend(title='City', loc='upper left') #Move legend\n",
    "sns.despine(left=True, bottom=True) #Remove top and right spines for cleaner look\n",
    "plt.tight_layout()\n",
    "plt.show()"
   ],
   "id": "b37f962889595f5a"
  },
  {
   "metadata": {},
   "cell_type": "markdown",
   "source": "Apparent temperature paints the same picture as temprature. The temeprature for both cities is slightly lower when other weather factors are taken into consideration ",
   "id": "a3684150be1402b6"
  },
  {
   "metadata": {
    "ExecuteTime": {
     "end_time": "2025-04-04T12:28:44.748193Z",
     "start_time": "2025-04-04T12:28:44.656501Z"
    }
   },
   "cell_type": "code",
   "source": [
    "# Restructure the DataFrame for better plotting\n",
    "seasons_reset = seasons.reset_index()\n",
    "seasons_day = pd.melt(seasons_reset, id_vars='season', \n",
    "                       value_vars=['sunshine_duration_zurich', 'sunshine_duration_seattle'],\n",
    "                       var_name='City', value_name='Sunshine')\n",
    "\n",
    "# Extract city names\n",
    "seasons_day['City'] = seasons_day['City'].str.replace('sunshine_duration_', '', regex=False)\n",
    "\n",
    "#Improved plotting with better aesthetics\n",
    "plt.figure(figsize=(12, 6))\n",
    "sns.barplot(x='season', y='Sunshine', hue='City', data=seasons_day)\n",
    "plt.title('Sunshine Duration: Zurich vs. Seattle by Season')\n",
    "plt.xlabel('Season')\n",
    "plt.ylabel('Seconds')\n",
    "plt.xticks(rotation=0) #Keep x-axis labels horizontal\n",
    "plt.legend(title='City', loc='upper left') #Move legend\n",
    "sns.despine(left=True, bottom=True) #Remove top and right spines for cleaner look\n",
    "plt.tight_layout()\n",
    "plt.show()"
   ],
   "id": "3a0544731a535843",
   "outputs": [
    {
     "data": {
      "text/plain": [
       "<Figure size 1200x600 with 1 Axes>"
      ],
      "image/png": "[encoded data removed]"
     },
     "metadata": {},
     "output_type": "display_data"
    }
   ],
   "execution_count": 87
  },
  {
   "metadata": {},
   "cell_type": "markdown",
   "source": "Average sunshine duration is higher in Seattle in all seasons except in summer when it is lower than Zurich, indacting the both cities tend to have cloudly weather in general",
   "id": "53b5f4d73730cc0f"
  },
  {
   "metadata": {},
   "cell_type": "code",
   "outputs": [],
   "execution_count": null,
   "source": "",
   "id": "f9b2ae09c6bb7ab8"
  }
 ],
 "metadata": {
  "kernelspec": {
   "display_name": "Python 3",
   "language": "python",
   "name": "python3"
  },
  "language_info": {
   "codemirror_mode": {
    "name": "ipython",
    "version": 2
   },
   "file_extension": ".py",
   "mimetype": "text/x-python",
   "name": "python",
   "nbconvert_exporter": "python",
   "pygments_lexer": "ipython2",
   "version": "2.7.6"
  }
 },
 "nbformat": 4,
 "nbformat_minor": 5
}
