{
 "cells": [
  {
   "cell_type": "code",
   "id": "initial_id",
   "metadata": {
    "collapsed": true,
    "ExecuteTime": {
     "end_time": "2025-03-14T10:30:26.470645Z",
     "start_time": "2025-03-14T10:30:26.171775Z"
    }
   },
   "source": "import pandas as pd",
   "outputs": [],
   "execution_count": 1
  },
  {
   "metadata": {
    "ExecuteTime": {
     "end_time": "2025-03-14T10:34:54.048455Z",
     "start_time": "2025-03-14T10:34:53.990955Z"
    }
   },
   "cell_type": "code",
   "source": [
    "# Load the dataset\n",
    "df = pd.read_csv('Data/start.csv')"
   ],
   "id": "ee92a7442a45b2fc",
   "outputs": [],
   "execution_count": 7
  },
  {
   "metadata": {
    "ExecuteTime": {
     "end_time": "2025-03-14T10:35:38.428849Z",
     "start_time": "2025-03-14T10:35:38.422668Z"
    }
   },
   "cell_type": "code",
   "source": [
    "print(sum(df.sunrise))\n",
    "print(sum(df.sunset))"
   ],
   "id": "c5fd6dcb816b04b",
   "outputs": [
    {
     "name": "stdout",
     "output_type": "stream",
     "text": [
      "0\n",
      "0\n"
     ]
    }
   ],
   "execution_count": 9
  },
  {
   "metadata": {
    "ExecuteTime": {
     "end_time": "2025-03-14T10:35:40.432140Z",
     "start_time": "2025-03-14T10:35:40.427601Z"
    }
   },
   "cell_type": "code",
   "source": [
    "# Remove two columns with only zero values\n",
    "df = df.drop(['sunrise', 'sunset'], axis=1)"
   ],
   "id": "b453b757db0f1edc",
   "outputs": [],
   "execution_count": 10
  },
  {
   "metadata": {},
   "cell_type": "code",
   "outputs": [],
   "execution_count": null,
   "source": "",
   "id": "6de59743fedf68dd"
  },
  {
   "metadata": {
    "ExecuteTime": {
     "end_time": "2025-03-14T11:28:13.086263Z",
     "start_time": "2025-03-14T11:28:13.076067Z"
    }
   },
   "cell_type": "code",
   "source": [
    "# Inspect the data\n",
    "df.head()"
   ],
   "id": "c3ba4ca33acdbd88",
   "outputs": [
    {
     "data": {
      "text/plain": [
       "                        date  weather_code  temperature_2m_max  \\\n",
       "0  1989-12-31 23:00:00+00:00           1.0              3.7505   \n",
       "1  1990-01-01 23:00:00+00:00           1.0              4.5005   \n",
       "2  1990-01-02 23:00:00+00:00           1.0              4.0505   \n",
       "3  1990-01-03 23:00:00+00:00           3.0              2.5505   \n",
       "4  1990-01-04 23:00:00+00:00          51.0              4.4505   \n",
       "\n",
       "   temperature_2m_min  temperature_2m_mean  apparent_temperature_max  \\\n",
       "0             -2.9995            -0.076583                  0.898987   \n",
       "1             -4.0495            -0.080750                  1.624582   \n",
       "2             -4.0995            -1.020333                  0.180788   \n",
       "3             -4.5495            -1.357833                 -0.165994   \n",
       "4             -3.4495            -0.018250                  1.477664   \n",
       "\n",
       "   apparent_temperature_min  apparent_temperature_mean  daylight_duration  \\\n",
       "0                 -5.818353                  -2.794004          30754.969   \n",
       "1                 -6.882779                  -2.926928          30813.893   \n",
       "2                 -8.012788                  -4.714355          30877.549   \n",
       "3                 -8.003006                  -4.388062          30945.828   \n",
       "4                 -6.503490                  -3.029862          31018.617   \n",
       "\n",
       "   sunshine_duration  precipitation_sum  rain_sum  snowfall_sum  \\\n",
       "0          25424.652                0.0       0.0           0.0   \n",
       "1          25491.350                0.0       0.0           0.0   \n",
       "2          25503.260                0.0       0.0           0.0   \n",
       "3          18682.740                0.0       0.0           0.0   \n",
       "4          24029.326                1.0       1.0           0.0   \n",
       "\n",
       "   precipitation_hours  wind_speed_10m_max  wind_gusts_10m_max  \\\n",
       "0                  0.0            2.545584           11.879999   \n",
       "1                  0.0            5.052841           12.599999   \n",
       "2                  0.0            9.178235           25.199999   \n",
       "3                  0.0            5.351785           13.679999   \n",
       "4                  5.0            7.200000           18.359999   \n",
       "\n",
       "   wind_direction_10m_dominant  shortwave_radiation_sum  \\\n",
       "0                   335.026100                     5.56   \n",
       "1                   332.002960                     5.49   \n",
       "2                    29.066843                     5.60   \n",
       "3                   356.845280                     4.44   \n",
       "4                   236.607400                     3.65   \n",
       "\n",
       "   et0_fao_evapotranspiration    City  \n",
       "0                    0.476961  Zurich  \n",
       "1                    0.500982  Zurich  \n",
       "2                    0.546437  Zurich  \n",
       "3                    0.405223  Zurich  \n",
       "4                    0.386904  Zurich  "
      ],
      "text/html": [
       "<div>\n",
       "<style scoped>\n",
       "    .dataframe tbody tr th:only-of-type {\n",
       "        vertical-align: middle;\n",
       "    }\n",
       "\n",
       "    .dataframe tbody tr th {\n",
       "        vertical-align: top;\n",
       "    }\n",
       "\n",
       "    .dataframe thead th {\n",
       "        text-align: right;\n",
       "    }\n",
       "</style>\n",
       "<table border=\"1\" class=\"dataframe\">\n",
       "  <thead>\n",
       "    <tr style=\"text-align: right;\">\n",
       "      <th></th>\n",
       "      <th>date</th>\n",
       "      <th>weather_code</th>\n",
       "      <th>temperature_2m_max</th>\n",
       "      <th>temperature_2m_min</th>\n",
       "      <th>temperature_2m_mean</th>\n",
       "      <th>apparent_temperature_max</th>\n",
       "      <th>apparent_temperature_min</th>\n",
       "      <th>apparent_temperature_mean</th>\n",
       "      <th>daylight_duration</th>\n",
       "      <th>sunshine_duration</th>\n",
       "      <th>precipitation_sum</th>\n",
       "      <th>rain_sum</th>\n",
       "      <th>snowfall_sum</th>\n",
       "      <th>precipitation_hours</th>\n",
       "      <th>wind_speed_10m_max</th>\n",
       "      <th>wind_gusts_10m_max</th>\n",
       "      <th>wind_direction_10m_dominant</th>\n",
       "      <th>shortwave_radiation_sum</th>\n",
       "      <th>et0_fao_evapotranspiration</th>\n",
       "      <th>City</th>\n",
       "    </tr>\n",
       "  </thead>\n",
       "  <tbody>\n",
       "    <tr>\n",
       "      <th>0</th>\n",
       "      <td>1989-12-31 23:00:00+00:00</td>\n",
       "      <td>1.0</td>\n",
       "      <td>3.7505</td>\n",
       "      <td>-2.9995</td>\n",
       "      <td>-0.076583</td>\n",
       "      <td>0.898987</td>\n",
       "      <td>-5.818353</td>\n",
       "      <td>-2.794004</td>\n",
       "      <td>30754.969</td>\n",
       "      <td>25424.652</td>\n",
       "      <td>0.0</td>\n",
       "      <td>0.0</td>\n",
       "      <td>0.0</td>\n",
       "      <td>0.0</td>\n",
       "      <td>2.545584</td>\n",
       "      <td>11.879999</td>\n",
       "      <td>335.026100</td>\n",
       "      <td>5.56</td>\n",
       "      <td>0.476961</td>\n",
       "      <td>Zurich</td>\n",
       "    </tr>\n",
       "    <tr>\n",
       "      <th>1</th>\n",
       "      <td>1990-01-01 23:00:00+00:00</td>\n",
       "      <td>1.0</td>\n",
       "      <td>4.5005</td>\n",
       "      <td>-4.0495</td>\n",
       "      <td>-0.080750</td>\n",
       "      <td>1.624582</td>\n",
       "      <td>-6.882779</td>\n",
       "      <td>-2.926928</td>\n",
       "      <td>30813.893</td>\n",
       "      <td>25491.350</td>\n",
       "      <td>0.0</td>\n",
       "      <td>0.0</td>\n",
       "      <td>0.0</td>\n",
       "      <td>0.0</td>\n",
       "      <td>5.052841</td>\n",
       "      <td>12.599999</td>\n",
       "      <td>332.002960</td>\n",
       "      <td>5.49</td>\n",
       "      <td>0.500982</td>\n",
       "      <td>Zurich</td>\n",
       "    </tr>\n",
       "    <tr>\n",
       "      <th>2</th>\n",
       "      <td>1990-01-02 23:00:00+00:00</td>\n",
       "      <td>1.0</td>\n",
       "      <td>4.0505</td>\n",
       "      <td>-4.0995</td>\n",
       "      <td>-1.020333</td>\n",
       "      <td>0.180788</td>\n",
       "      <td>-8.012788</td>\n",
       "      <td>-4.714355</td>\n",
       "      <td>30877.549</td>\n",
       "      <td>25503.260</td>\n",
       "      <td>0.0</td>\n",
       "      <td>0.0</td>\n",
       "      <td>0.0</td>\n",
       "      <td>0.0</td>\n",
       "      <td>9.178235</td>\n",
       "      <td>25.199999</td>\n",
       "      <td>29.066843</td>\n",
       "      <td>5.60</td>\n",
       "      <td>0.546437</td>\n",
       "      <td>Zurich</td>\n",
       "    </tr>\n",
       "    <tr>\n",
       "      <th>3</th>\n",
       "      <td>1990-01-03 23:00:00+00:00</td>\n",
       "      <td>3.0</td>\n",
       "      <td>2.5505</td>\n",
       "      <td>-4.5495</td>\n",
       "      <td>-1.357833</td>\n",
       "      <td>-0.165994</td>\n",
       "      <td>-8.003006</td>\n",
       "      <td>-4.388062</td>\n",
       "      <td>30945.828</td>\n",
       "      <td>18682.740</td>\n",
       "      <td>0.0</td>\n",
       "      <td>0.0</td>\n",
       "      <td>0.0</td>\n",
       "      <td>0.0</td>\n",
       "      <td>5.351785</td>\n",
       "      <td>13.679999</td>\n",
       "      <td>356.845280</td>\n",
       "      <td>4.44</td>\n",
       "      <td>0.405223</td>\n",
       "      <td>Zurich</td>\n",
       "    </tr>\n",
       "    <tr>\n",
       "      <th>4</th>\n",
       "      <td>1990-01-04 23:00:00+00:00</td>\n",
       "      <td>51.0</td>\n",
       "      <td>4.4505</td>\n",
       "      <td>-3.4495</td>\n",
       "      <td>-0.018250</td>\n",
       "      <td>1.477664</td>\n",
       "      <td>-6.503490</td>\n",
       "      <td>-3.029862</td>\n",
       "      <td>31018.617</td>\n",
       "      <td>24029.326</td>\n",
       "      <td>1.0</td>\n",
       "      <td>1.0</td>\n",
       "      <td>0.0</td>\n",
       "      <td>5.0</td>\n",
       "      <td>7.200000</td>\n",
       "      <td>18.359999</td>\n",
       "      <td>236.607400</td>\n",
       "      <td>3.65</td>\n",
       "      <td>0.386904</td>\n",
       "      <td>Zurich</td>\n",
       "    </tr>\n",
       "  </tbody>\n",
       "</table>\n",
       "</div>"
      ]
     },
     "execution_count": 11,
     "metadata": {},
     "output_type": "execute_result"
    }
   ],
   "execution_count": 11
  },
  {
   "metadata": {},
   "cell_type": "code",
   "outputs": [],
   "execution_count": null,
   "source": "",
   "id": "6d2056563151d37"
  }
 ],
 "metadata": {
  "kernelspec": {
   "display_name": "Python 3",
   "language": "python",
   "name": "python3"
  },
  "language_info": {
   "codemirror_mode": {
    "name": "ipython",
    "version": 2
   },
   "file_extension": ".py",
   "mimetype": "text/x-python",
   "name": "python",
   "nbconvert_exporter": "python",
   "pygments_lexer": "ipython2",
   "version": "2.7.6"
  }
 },
 "nbformat": 4,
 "nbformat_minor": 5
}
