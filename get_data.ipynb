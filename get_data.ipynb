{
 "cells": [
  {
   "metadata": {
    "ExecuteTime": {
     "end_time": "2025-04-01T08:45:34.851166Z",
     "start_time": "2025-04-01T08:45:34.849046Z"
    }
   },
   "cell_type": "code",
   "source": [
    "import openmeteo_requests\n",
    "import requests_cache\n",
    "import pandas as pd\n",
    "import numpy as np\n",
    "from retry_requests import retry\n",
    "import os\n",
    "import time"
   ],
   "id": "424ae6723e55a1af",
   "outputs": [],
   "execution_count": 6
  },
  {
   "metadata": {},
   "cell_type": "code",
   "outputs": [],
   "execution_count": null,
   "source": [
    "# Declare the latitude and longitude for both cities\n",
    "cities = {\"Zurich\": {'loc': [\"47.3769\", \"8.5417\"]},\n",
    "\t\t  \"Seattle\": {'loc': [\"47.6062\", \"122.3321\"]}}"
   ],
   "id": "82a7adcfb4cb4a5b"
  },
  {
   "metadata": {},
   "cell_type": "code",
   "outputs": [],
   "execution_count": null,
   "source": [
    "# Setup the Open-Meteo API client with cache and retry on error\n",
    "cache_session = requests_cache.CachedSession('.cache', expire_after = -1)\n",
    "retry_session = retry(cache_session, retries = 5, backoff_factor = 0.2)\n",
    "openmeteo = openmeteo_requests.Client(session = retry_session)"
   ],
   "id": "70c0205b95a0b21c"
  },
  {
   "metadata": {},
   "cell_type": "code",
   "outputs": [],
   "execution_count": null,
   "source": [
    "def call_API(city, openmeteo):\n",
    "\t# Set the API call parameters\n",
    "\turl = \"https://archive-api.open-meteo.com/v1/archive\"\n",
    "\tparams = {\n",
    "\t\t\"latitude\": cities[city]['loc'][0],\n",
    "\t\t\"longitude\": cities[city]['loc'][1],\n",
    "\t\t\"start_date\": \"1940-01-01\",\n",
    "\t\t\"end_date\": \"2024-12-31\",\n",
    "\t\t\"daily\": [\"weather_code\", \"temperature_2m_max\", \"temperature_2m_min\", \"temperature_2m_mean\", \"apparent_temperature_max\", \"apparent_temperature_min\", \"apparent_temperature_mean\", \"sunrise\", \"sunset\", \"daylight_duration\", \"sunshine_duration\", \"precipitation_sum\", \"rain_sum\", \"snowfall_sum\", \"precipitation_hours\", \"wind_speed_10m_max\", \"wind_gusts_10m_max\", \"wind_direction_10m_dominant\", \"shortwave_radiation_sum\", \"et0_fao_evapotranspiration\"],\n",
    "\t\t\"timezone\": \"Europe/Berlin\"\n",
    "\t}\n",
    "\tresponses = openmeteo.weather_api(url, params=params)\n",
    "\t\n",
    "\t# Print the first part of the API response to validate the call data is valid\n",
    "\tresponse = responses[0]\n",
    "\tprint(f\"Coordinates {response.Latitude()}°N {response.Longitude()}°E\")\n",
    "\tprint(f\"Elevation {response.Elevation()} m asl\")\n",
    "\tprint(f\"Timezone {response.Timezone()} {response.TimezoneAbbreviation()}\")\n",
    "\tprint(f\"Timezone difference to GMT+0 {response.UtcOffsetSeconds()} s\")\n",
    "\t\n",
    "\t# Process data and validate variable types\n",
    "\tdaily = response.Daily()\n",
    "\tdaily_weather_code = daily.Variables(0).ValuesAsNumpy()\n",
    "\tdaily_temperature_2m_max = daily.Variables(1).ValuesAsNumpy()\n",
    "\tdaily_temperature_2m_min = daily.Variables(2).ValuesAsNumpy()\n",
    "\tdaily_temperature_2m_mean = daily.Variables(3).ValuesAsNumpy()\n",
    "\tdaily_apparent_temperature_max = daily.Variables(4).ValuesAsNumpy()\n",
    "\tdaily_apparent_temperature_min = daily.Variables(5).ValuesAsNumpy()\n",
    "\tdaily_apparent_temperature_mean = daily.Variables(6).ValuesAsNumpy()\n",
    "\tdaily_sunrise = daily.Variables(7).ValuesAsNumpy()\n",
    "\tdaily_sunset = daily.Variables(8).ValuesAsNumpy()\n",
    "\tdaily_daylight_duration = daily.Variables(9).ValuesAsNumpy()\n",
    "\tdaily_sunshine_duration = daily.Variables(10).ValuesAsNumpy()\n",
    "\tdaily_precipitation_sum = daily.Variables(11).ValuesAsNumpy()\n",
    "\tdaily_rain_sum = daily.Variables(12).ValuesAsNumpy()\n",
    "\tdaily_snowfall_sum = daily.Variables(13).ValuesAsNumpy()\n",
    "\tdaily_precipitation_hours = daily.Variables(14).ValuesAsNumpy()\n",
    "\tdaily_wind_speed_10m_max = daily.Variables(15).ValuesAsNumpy()\n",
    "\tdaily_wind_gusts_10m_max = daily.Variables(16).ValuesAsNumpy()\n",
    "\tdaily_wind_direction_10m_dominant = daily.Variables(17).ValuesAsNumpy()\n",
    "\tdaily_shortwave_radiation_sum = daily.Variables(18).ValuesAsNumpy()\n",
    "\tdaily_et0_fao_evapotranspiration = daily.Variables(19).ValuesAsNumpy()\n",
    "\t\n",
    "\t# Format the date variable to readable format\n",
    "\tdaily_data = {\"date\": pd.date_range(\n",
    "\t\tstart = pd.to_datetime(daily.Time(), unit = \"s\", utc = True),\n",
    "\t\tend = pd.to_datetime(daily.TimeEnd(), unit = \"s\", utc = True),\n",
    "\t\tfreq = pd.Timedelta(seconds = daily.Interval()),\n",
    "\t\tinclusive = \"left\"\n",
    "\t\t)}\n",
    "\t\n",
    "\t# Create the pandas dataframe\n",
    "\tdaily_data[\"weather_code\"] = daily_weather_code\n",
    "\tdaily_data[\"temperature_2m_max\"] = daily_temperature_2m_max\n",
    "\tdaily_data[\"temperature_2m_min\"] = daily_temperature_2m_min\n",
    "\tdaily_data[\"temperature_2m_mean\"] = daily_temperature_2m_mean\n",
    "\tdaily_data[\"apparent_temperature_max\"] = daily_apparent_temperature_max\n",
    "\tdaily_data[\"apparent_temperature_min\"] = daily_apparent_temperature_min\n",
    "\tdaily_data[\"apparent_temperature_mean\"] = daily_apparent_temperature_mean\n",
    "\tdaily_data[\"sunrise\"] = daily_sunrise\n",
    "\tdaily_data[\"sunset\"] = daily_sunset\n",
    "\tdaily_data[\"daylight_duration\"] = daily_daylight_duration\n",
    "\tdaily_data[\"sunshine_duration\"] = daily_sunshine_duration\n",
    "\tdaily_data[\"precipitation_sum\"] = daily_precipitation_sum\n",
    "\tdaily_data[\"rain_sum\"] = daily_rain_sum\n",
    "\tdaily_data[\"snowfall_sum\"] = daily_snowfall_sum\n",
    "\tdaily_data[\"precipitation_hours\"] = daily_precipitation_hours\n",
    "\tdaily_data[\"wind_speed_10m_max\"] = daily_wind_speed_10m_max\n",
    "\tdaily_data[\"wind_gusts_10m_max\"] = daily_wind_gusts_10m_max\n",
    "\tdaily_data[\"wind_direction_10m_dominant\"] = daily_wind_direction_10m_dominant\n",
    "\tdaily_data[\"shortwave_radiation_sum\"] = daily_shortwave_radiation_sum\n",
    "\tdaily_data[\"et0_fao_evapotranspiration\"] = daily_et0_fao_evapotranspiration\n",
    "\t\n",
    "\t# Make a dataframe from the dictionary\n",
    "\tdaily_dataframe = pd.DataFrame(data = daily_data)\n",
    "\t\n",
    "\treturn daily_dataframe"
   ],
   "id": "c918b1d398c783c9"
  },
  {
   "metadata": {},
   "cell_type": "code",
   "outputs": [],
   "execution_count": null,
   "source": [
    "def create_folder():\n",
    "\t# create a data directory call Data for our data\n",
    "\tos.makedirs(\"Data\", exist_ok=True)\n",
    "\tprint(f\"Folder Data created successfully!\")"
   ],
   "id": "ec98607843996bf0"
  },
  {
   "metadata": {},
   "cell_type": "code",
   "outputs": [],
   "execution_count": null,
   "source": [
    "def save_df(data, city):\n",
    "\t# Save the dataframe as csv file\n",
    "\tdata.to_csv(f\"Data/{city}.csv\", index = False)\n",
    "\tprint(f\"Saved data for '{city}' successfully!\")"
   ],
   "id": "8c98e2dc74a9e7fe"
  },
  {
   "metadata": {
    "ExecuteTime": {
     "end_time": "2025-03-18T18:26:21.116497Z",
     "start_time": "2025-03-18T18:26:21.113972Z"
    }
   },
   "cell_type": "code",
   "source": [
    "def combine_dataframes():\n",
    "\t# Create a single dataframe from the 2 datasets\n",
    "\t# Load the 2 datasets\n",
    "\tdf1 = pd.read_csv(\"Data/Zurich.csv\")\n",
    "\tdf2 = pd.read_csv(\"Data/Seattle.csv\")\n",
    "\t\n",
    "\t# Add a column to contains the city name\n",
    "\tdf1['City'] = 'Zurich'\n",
    "\tdf2['City'] = 'Seattle'\n",
    "\t\n",
    "\t# Concatenate the 2 dataframes\n",
    "\tstart_df = pd.concat([df1, df2], ignore_index=True)\n",
    "\t\n",
    "\t# Write combined dataframes to csv file\n",
    "\tstart_df.to_csv(\"Data/start.csv\", index = False)\n",
    "\t\n",
    "\t# Delete files no longer required\n",
    "\tos.remove(\"Data/Seattle.csv\")\n",
    "\tos.remove(\"Data/Zurich.csv\")"
   ],
   "id": "45fae92545580134",
   "outputs": [],
   "execution_count": 1
  },
  {
   "metadata": {},
   "cell_type": "code",
   "outputs": [],
   "execution_count": null,
   "source": [
    "if __name__ == \"__main__\":\n",
    "\tcreate_folder()\n",
    "\tcount = 0\n",
    "\t# Call the API and save the as csv files\n",
    "\t# Saving as csv files to limit the amount of calls to data provider\n",
    "\tfor city in cities:\n",
    "\t\tdata = call_API(city, openmeteo)\n",
    "\t\tsave_df(data, city)\n",
    "\n",
    "\t\t# Delay the 2nd api call for 2 minutes to not violate limits\n",
    "\t\t# on api calls\n",
    "\t\tif count < 1:\n",
    "\t\t\tprint(\"\\n\")\n",
    "\t\t\tprint(\"\\n Taking a 2 minute break......\")\n",
    "\t\t\ttime.sleep(120)\n",
    "\t\tcount += 1\n",
    "\n",
    "\tcombine_dataframes()"
   ],
   "id": "addd221da75702b2"
  },
  {
   "metadata": {
    "ExecuteTime": {
     "end_time": "2025-04-01T08:44:37.436376Z",
     "start_time": "2025-04-01T08:44:37.353038Z"
    }
   },
   "cell_type": "code",
   "source": "clean_df = pd.read_csv(\"Data/start.csv\")",
   "id": "1014f29bf645781e",
   "outputs": [],
   "execution_count": 3
  },
  {
   "metadata": {
    "ExecuteTime": {
     "end_time": "2025-04-01T08:45:40.825036Z",
     "start_time": "2025-04-01T08:45:40.820558Z"
    }
   },
   "cell_type": "code",
   "source": [
    "# Identify numerical columns\n",
    "numerical_cols = clean_df.select_dtypes(include=[np.number]).columns.tolist()"
   ],
   "id": "eaddc86f44826399",
   "outputs": [],
   "execution_count": 7
  },
  {
   "metadata": {
    "ExecuteTime": {
     "end_time": "2025-04-01T08:46:06.951251Z",
     "start_time": "2025-04-01T08:46:06.945110Z"
    }
   },
   "cell_type": "code",
   "source": [
    "# Check for empty or all zeros columns\n",
    "empty_cols = []\n",
    "for col in numerical_cols:\n",
    "\tif clean_df[col].sum() == 0:\n",
    "\t\tempty_cols.append(col)"
   ],
   "id": "45c461dd165f0406",
   "outputs": [],
   "execution_count": 8
  },
  {
   "metadata": {
    "ExecuteTime": {
     "end_time": "2025-04-01T08:46:41.547592Z",
     "start_time": "2025-04-01T08:46:41.540506Z"
    }
   },
   "cell_type": "code",
   "source": [
    "# Remove two columns with only zero values\n",
    "clean_df = clean_df.drop(empty_cols, axis=1)"
   ],
   "id": "52e1e0fefee2d9b5",
   "outputs": [],
   "execution_count": 10
  },
  {
   "metadata": {
    "ExecuteTime": {
     "end_time": "2025-04-01T08:47:15.345685Z",
     "start_time": "2025-04-01T08:47:15.338586Z"
    }
   },
   "cell_type": "code",
   "source": [
    "# Get index of rows with NaN values\n",
    "nan_rows = clean_df[clean_df.isna().any(axis=1)].index.tolist()"
   ],
   "id": "55558fd7f92291f7",
   "outputs": [],
   "execution_count": 11
  },
  {
   "metadata": {
    "ExecuteTime": {
     "end_time": "2025-04-01T08:47:38.705891Z",
     "start_time": "2025-04-01T08:47:38.698906Z"
    }
   },
   "cell_type": "code",
   "source": "clean_df = clean_df.drop(index=nan_rows, axis=0)",
   "id": "ada5c086bd1d0b4c",
   "outputs": [],
   "execution_count": 12
  },
  {
   "metadata": {
    "ExecuteTime": {
     "end_time": "2025-04-01T08:48:15.231955Z",
     "start_time": "2025-04-01T08:48:15.229541Z"
    }
   },
   "cell_type": "code",
   "source": "clean_df['weather_code'] = clean_df['weather_code'].astype(int)",
   "id": "b97d5098841521c4",
   "outputs": [],
   "execution_count": 13
  },
  {
   "metadata": {
    "ExecuteTime": {
     "end_time": "2025-04-01T08:48:51.608588Z",
     "start_time": "2025-04-01T08:48:51.275257Z"
    }
   },
   "cell_type": "code",
   "source": [
    "# Write cleaned dataframe to csv file to limit API calls\n",
    "clean_df.to_csv(\"Data/clean.csv\", index = False)"
   ],
   "id": "28f6e85d57f756c3",
   "outputs": [],
   "execution_count": 14
  },
  {
   "metadata": {},
   "cell_type": "code",
   "outputs": [],
   "execution_count": null,
   "source": "",
   "id": "509b20a0901f265e"
  }
 ],
 "metadata": {
  "kernelspec": {
   "display_name": "Python 3",
   "language": "python",
   "name": "python3"
  },
  "language_info": {
   "codemirror_mode": {
    "name": "ipython",
    "version": 2
   },
   "file_extension": ".py",
   "mimetype": "text/x-python",
   "name": "python",
   "nbconvert_exporter": "python",
   "pygments_lexer": "ipython2",
   "version": "2.7.6"
  }
 },
 "nbformat": 4,
 "nbformat_minor": 5
}
