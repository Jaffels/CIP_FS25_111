{
 "cells": [
  {
   "metadata": {
    "ExecuteTime": {
     "end_time": "2025-03-09T20:04:24.712381Z",
     "start_time": "2025-03-09T20:04:24.709246Z"
    }
   },
   "cell_type": "code",
   "source": [
    "import openmeteo_requests\n",
    "import requests_cache\n",
    "import pandas as pd\n",
    "from retry_requests import retry"
   ],
   "id": "26fdd018107e84d",
   "outputs": [],
   "execution_count": 7
  },
  {
   "metadata": {
    "ExecuteTime": {
     "end_time": "2025-03-09T20:12:08.876845Z",
     "start_time": "2025-03-09T20:12:06.819297Z"
    }
   },
   "cell_type": "code",
   "source": [
    "# Setup the Open-Meteo API client with cache and retry on error\n",
    "cache_session = requests_cache.CachedSession('.cache', expire_after = -1)\n",
    "retry_session = retry(cache_session, retries = 5, backoff_factor = 0.2)\n",
    "openmeteo = openmeteo_requests.Client(session = retry_session)\n",
    "\n",
    "# Make sure all required weather variables are listed here\n",
    "# The order of variables in hourly or daily is important to assign them correctly below\n",
    "url = \"https://archive-api.open-meteo.com/v1/archive\"\n",
    "params = {\n",
    "\t\"latitude\": 47.36667,\n",
    "\t\"longitude\": 8.55,\n",
    "\t\"start_date\": \"2020-01-01\",\n",
    "\t\"end_date\": \"2024-12-31\",\n",
    "\t\"daily\": [\"weather_code\", \"temperature_2m_max\", \"temperature_2m_min\", \"temperature_2m_mean\", \"apparent_temperature_max\", \"apparent_temperature_min\", \"apparent_temperature_mean\", \"sunrise\", \"sunset\", \"daylight_duration\", \"sunshine_duration\", \"precipitation_sum\", \"rain_sum\", \"snowfall_sum\", \"precipitation_hours\", \"wind_speed_10m_max\", \"wind_gusts_10m_max\", \"wind_direction_10m_dominant\", \"shortwave_radiation_sum\", \"et0_fao_evapotranspiration\"],\n",
    "\t\"timezone\": \"Europe/Berlin\"\n",
    "}\n",
    "responses = openmeteo.weather_api(url, params=params)"
   ],
   "id": "1fe27c0f1d0e75a6",
   "outputs": [],
   "execution_count": 18
  },
  {
   "metadata": {
    "ExecuteTime": {
     "end_time": "2025-03-09T20:12:09.852106Z",
     "start_time": "2025-03-09T20:12:09.848335Z"
    }
   },
   "cell_type": "code",
   "source": [
    "# Process first location. Add a for-loop for multiple locations or weather models\n",
    "response = responses[0]\n",
    "print(f\"Coordinates {response.Latitude()}°N {response.Longitude()}°E\")\n",
    "print(f\"Elevation {response.Elevation()} m asl\")\n",
    "print(f\"Timezone {response.Timezone()} {response.TimezoneAbbreviation()}\")\n",
    "print(f\"Timezone difference to GMT+0 {response.UtcOffsetSeconds()} s\")"
   ],
   "id": "325199ec1e7b51f3",
   "outputs": [
    {
     "name": "stdout",
     "output_type": "stream",
     "text": [
      "Coordinates 47.34621810913086°N 8.54337215423584°E\n",
      "Elevation 442.0 m asl\n",
      "Timezone b'Europe/Berlin' b'GMT+1'\n",
      "Timezone difference to GMT+0 3600 s\n"
     ]
    }
   ],
   "execution_count": 19
  },
  {
   "metadata": {
    "ExecuteTime": {
     "end_time": "2025-03-09T20:12:11.319951Z",
     "start_time": "2025-03-09T20:12:11.315811Z"
    }
   },
   "cell_type": "code",
   "source": [
    "# Process daily data. The order of variables needs to be the same as requested.\n",
    "daily = response.Daily()\n",
    "daily_weather_code = daily.Variables(0).ValuesAsNumpy()\n",
    "daily_temperature_2m_max = daily.Variables(1).ValuesAsNumpy()\n",
    "daily_temperature_2m_min = daily.Variables(2).ValuesAsNumpy()\n",
    "daily_temperature_2m_mean = daily.Variables(3).ValuesAsNumpy()\n",
    "daily_apparent_temperature_max = daily.Variables(4).ValuesAsNumpy()\n",
    "daily_apparent_temperature_min = daily.Variables(5).ValuesAsNumpy()\n",
    "daily_apparent_temperature_mean = daily.Variables(6).ValuesAsNumpy()\n",
    "daily_sunrise = daily.Variables(7).ValuesAsNumpy()\n",
    "daily_sunset = daily.Variables(8).ValuesAsNumpy()\n",
    "daily_daylight_duration = daily.Variables(9).ValuesAsNumpy()\n",
    "daily_sunshine_duration = daily.Variables(10).ValuesAsNumpy()\n",
    "daily_precipitation_sum = daily.Variables(11).ValuesAsNumpy()\n",
    "daily_rain_sum = daily.Variables(12).ValuesAsNumpy()\n",
    "daily_snowfall_sum = daily.Variables(13).ValuesAsNumpy()\n",
    "daily_precipitation_hours = daily.Variables(14).ValuesAsNumpy()\n",
    "daily_wind_speed_10m_max = daily.Variables(15).ValuesAsNumpy()\n",
    "daily_wind_gusts_10m_max = daily.Variables(16).ValuesAsNumpy()\n",
    "daily_wind_direction_10m_dominant = daily.Variables(17).ValuesAsNumpy()\n",
    "daily_shortwave_radiation_sum = daily.Variables(18).ValuesAsNumpy()\n",
    "daily_et0_fao_evapotranspiration = daily.Variables(19).ValuesAsNumpy()\n",
    "\n",
    "daily_data = {\"date\": pd.date_range(\n",
    "\tstart = pd.to_datetime(daily.Time(), unit = \"s\", utc = True),\n",
    "\tend = pd.to_datetime(daily.TimeEnd(), unit = \"s\", utc = True),\n",
    "\tfreq = pd.Timedelta(seconds = daily.Interval()),\n",
    "\tinclusive = \"left\"\n",
    ")}"
   ],
   "id": "7bb1d7c91a958ac8",
   "outputs": [],
   "execution_count": 20
  },
  {
   "metadata": {
    "ExecuteTime": {
     "end_time": "2025-03-09T20:12:12.314355Z",
     "start_time": "2025-03-09T20:12:12.310183Z"
    }
   },
   "cell_type": "code",
   "source": [
    "# Create the pandas dataframe\n",
    "daily_data[\"weather_code\"] = daily_weather_code\n",
    "daily_data[\"temperature_2m_max\"] = daily_temperature_2m_max\n",
    "daily_data[\"temperature_2m_min\"] = daily_temperature_2m_min\n",
    "daily_data[\"temperature_2m_mean\"] = daily_temperature_2m_mean\n",
    "daily_data[\"apparent_temperature_max\"] = daily_apparent_temperature_max\n",
    "daily_data[\"apparent_temperature_min\"] = daily_apparent_temperature_min\n",
    "daily_data[\"apparent_temperature_mean\"] = daily_apparent_temperature_mean\n",
    "daily_data[\"sunrise\"] = daily_sunrise\n",
    "daily_data[\"sunset\"] = daily_sunset\n",
    "daily_data[\"daylight_duration\"] = daily_daylight_duration\n",
    "daily_data[\"sunshine_duration\"] = daily_sunshine_duration\n",
    "daily_data[\"precipitation_sum\"] = daily_precipitation_sum\n",
    "daily_data[\"rain_sum\"] = daily_rain_sum\n",
    "daily_data[\"snowfall_sum\"] = daily_snowfall_sum\n",
    "daily_data[\"precipitation_hours\"] = daily_precipitation_hours\n",
    "daily_data[\"wind_speed_10m_max\"] = daily_wind_speed_10m_max\n",
    "daily_data[\"wind_gusts_10m_max\"] = daily_wind_gusts_10m_max\n",
    "daily_data[\"wind_direction_10m_dominant\"] = daily_wind_direction_10m_dominant\n",
    "daily_data[\"shortwave_radiation_sum\"] = daily_shortwave_radiation_sum\n",
    "daily_data[\"et0_fao_evapotranspiration\"] = daily_et0_fao_evapotranspiration"
   ],
   "id": "1e0bf841808dde44",
   "outputs": [],
   "execution_count": 21
  },
  {
   "metadata": {
    "ExecuteTime": {
     "end_time": "2025-03-09T20:12:13.590394Z",
     "start_time": "2025-03-09T20:12:13.564433Z"
    }
   },
   "cell_type": "code",
   "source": [
    "# Save the dataframe as csv file\n",
    "daily_dataframe = pd.DataFrame(data = daily_data)\n",
    "daily_dataframe.to_csv(\"Data/Zurich(2020-2024).csv\", index = False)"
   ],
   "id": "68e19e5e32737d3b",
   "outputs": [],
   "execution_count": 22
  },
  {
   "metadata": {},
   "cell_type": "code",
   "outputs": [],
   "execution_count": null,
   "source": "",
   "id": "a35b011c729173fb"
  }
 ],
 "metadata": {
  "kernelspec": {
   "display_name": "Python 3",
   "language": "python",
   "name": "python3"
  },
  "language_info": {
   "codemirror_mode": {
    "name": "ipython",
    "version": 2
   },
   "file_extension": ".py",
   "mimetype": "text/x-python",
   "name": "python",
   "nbconvert_exporter": "python",
   "pygments_lexer": "ipython2",
   "version": "2.7.6"
  }
 },
 "nbformat": 4,
 "nbformat_minor": 5
}
