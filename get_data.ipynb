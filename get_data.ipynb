{
 "cells": [
  {
   "cell_type": "code",
   "id": "28a9c2f0570e8195",
   "metadata": {
    "collapsed": true,
    "ExecuteTime": {
     "end_time": "2025-03-06T17:50:36.216484Z",
     "start_time": "2025-03-06T17:50:30.662647Z"
    }
   },
   "source": [
    "import requests\n",
    "import json\n",
    "import pandas as pd"
   ],
   "outputs": [],
   "execution_count": 1
  },
  {
   "metadata": {
    "ExecuteTime": {
     "end_time": "2025-03-06T17:50:36.510598Z",
     "start_time": "2025-03-06T17:50:36.217551Z"
    }
   },
   "cell_type": "code",
   "source": [
    "\n",
    "url = \"https://api.tomorrow.io/v4/weather/realtime?location=toronto&apikey=nvAt4PAuWi0usK7mpZOQAJNloNOzE6Eh\"\n",
    "\n",
    "headers = {\n",
    "    \"accept\": \"application/json\"\n",
    "}\n",
    "\n",
    "response = requests.get(url, headers=headers)\n",
    "\n",
    "print(response.json())"
   ],
   "id": "initial_id",
   "outputs": [
    {
     "name": "stdout",
     "output_type": "stream",
     "text": [
      "{'data': {'time': '2025-03-06T17:50:00Z', 'values': {'cloudBase': 0.5, 'cloudCeiling': 0.5, 'cloudCover': 100, 'dewPoint': -6.6, 'freezingRainIntensity': 0, 'hailProbability': 5.4, 'hailSize': 0.34, 'humidity': 73, 'precipitationProbability': 0, 'pressureSeaLevel': 998.5, 'pressureSurfaceLevel': 987.71, 'rainIntensity': 0, 'sleetIntensity': 0, 'snowIntensity': 0, 'temperature': -2.4, 'temperatureApparent': -9.8, 'uvHealthConcern': 0, 'uvIndex': 2, 'visibility': 12.55, 'weatherCode': 1001, 'windDirection': 278, 'windGust': 14.7, 'windSpeed': 8.8}}, 'location': {'lat': 43.653480529785156, 'lon': -79.3839340209961, 'name': 'Toronto, Golden Horseshoe, Ontario, Canada', 'type': 'administrative'}}\n"
     ]
    }
   ],
   "execution_count": 2
  },
  {
   "metadata": {},
   "cell_type": "code",
   "outputs": [],
   "execution_count": null,
   "source": "",
   "id": "68e19e5e32737d3b"
  }
 ],
 "metadata": {
  "kernelspec": {
   "display_name": "Python 3",
   "language": "python",
   "name": "python3"
  },
  "language_info": {
   "codemirror_mode": {
    "name": "ipython",
    "version": 2
   },
   "file_extension": ".py",
   "mimetype": "text/x-python",
   "name": "python",
   "nbconvert_exporter": "python",
   "pygments_lexer": "ipython2",
   "version": "2.7.6"
  }
 },
 "nbformat": 4,
 "nbformat_minor": 5
}
